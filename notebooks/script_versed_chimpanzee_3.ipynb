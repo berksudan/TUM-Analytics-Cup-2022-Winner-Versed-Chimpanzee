{
 "cells": [
  {
   "cell_type": "code",
   "execution_count": 53,
   "id": "3d1aee93",
   "metadata": {},
   "outputs": [
    {
     "data": {
      "application/javascript": [
       "\n",
       "            setTimeout(function() {\n",
       "                var nbb_cell_id = 53;\n",
       "                var nbb_unformatted_code = \"################ Look For #TODOs !!\";\n",
       "                var nbb_formatted_code = \"################ Look For #TODOs !!\";\n",
       "                var nbb_cells = Jupyter.notebook.get_cells();\n",
       "                for (var i = 0; i < nbb_cells.length; ++i) {\n",
       "                    if (nbb_cells[i].input_prompt_number == nbb_cell_id) {\n",
       "                        if (nbb_cells[i].get_text() == nbb_unformatted_code) {\n",
       "                             nbb_cells[i].set_text(nbb_formatted_code);\n",
       "                        }\n",
       "                        break;\n",
       "                    }\n",
       "                }\n",
       "            }, 500);\n",
       "            "
      ],
      "text/plain": [
       "<IPython.core.display.Javascript object>"
      ]
     },
     "metadata": {},
     "output_type": "display_data"
    }
   ],
   "source": [
    "################ Look For #TODOs !!"
   ]
  },
  {
   "cell_type": "code",
   "execution_count": 26,
   "id": "77827d7f",
   "metadata": {},
   "outputs": [
    {
     "name": "stdout",
     "output_type": "stream",
     "text": [
      "The nb_black extension is already loaded. To reload it, use:\n",
      "  %reload_ext nb_black\n"
     ]
    },
    {
     "data": {
      "application/javascript": [
       "\n",
       "            setTimeout(function() {\n",
       "                var nbb_cell_id = 26;\n",
       "                var nbb_unformatted_code = \"import pandas as pd\\nimport numpy as np\\nimport collections as c\\nimport sklearn\\n\\nfrom sklearn.preprocessing import MultiLabelBinarizer\\nimport category_encoders as ce\\nfrom sklearn import preprocessing\\n\\n# use feature importance for feature selection\\nfrom numpy import loadtxt\\nfrom numpy import sort\\nfrom xgboost import XGBClassifier\\nfrom sklearn.model_selection import train_test_split\\nfrom sklearn.metrics import balanced_accuracy_score\\nfrom sklearn.feature_selection import SelectFromModel\\n\\n# example of auto-sklearn for a classification dataset\\nfrom sklearn.datasets import make_classification\\nfrom sklearn.model_selection import train_test_split\\nfrom autosklearn.classification import AutoSklearnClassifier\\nimport autosklearn\\n\\nimport copy\\nimport time\\nimport pickle\\nimport itertools\\nfrom typing import List\\nimport datetime\\n\\n# pip install nb_black\\n%load_ext nb_black\";\n",
       "                var nbb_formatted_code = \"import pandas as pd\\nimport numpy as np\\nimport collections as c\\nimport sklearn\\n\\nfrom sklearn.preprocessing import MultiLabelBinarizer\\nimport category_encoders as ce\\nfrom sklearn import preprocessing\\n\\n# use feature importance for feature selection\\nfrom numpy import loadtxt\\nfrom numpy import sort\\nfrom xgboost import XGBClassifier\\nfrom sklearn.model_selection import train_test_split\\nfrom sklearn.metrics import balanced_accuracy_score\\nfrom sklearn.feature_selection import SelectFromModel\\n\\n# example of auto-sklearn for a classification dataset\\nfrom sklearn.datasets import make_classification\\nfrom sklearn.model_selection import train_test_split\\nfrom autosklearn.classification import AutoSklearnClassifier\\nimport autosklearn\\n\\nimport copy\\nimport time\\nimport pickle\\nimport itertools\\nfrom typing import List\\nimport datetime\\n\\n# pip install nb_black\\n%load_ext nb_black\";\n",
       "                var nbb_cells = Jupyter.notebook.get_cells();\n",
       "                for (var i = 0; i < nbb_cells.length; ++i) {\n",
       "                    if (nbb_cells[i].input_prompt_number == nbb_cell_id) {\n",
       "                        if (nbb_cells[i].get_text() == nbb_unformatted_code) {\n",
       "                             nbb_cells[i].set_text(nbb_formatted_code);\n",
       "                        }\n",
       "                        break;\n",
       "                    }\n",
       "                }\n",
       "            }, 500);\n",
       "            "
      ],
      "text/plain": [
       "<IPython.core.display.Javascript object>"
      ]
     },
     "metadata": {},
     "output_type": "display_data"
    }
   ],
   "source": [
    "import pandas as pd\n",
    "import numpy as np\n",
    "import collections as c\n",
    "import sklearn\n",
    "\n",
    "from sklearn.preprocessing import MultiLabelBinarizer\n",
    "import category_encoders as ce\n",
    "from sklearn import preprocessing\n",
    "\n",
    "# use feature importance for feature selection\n",
    "from numpy import loadtxt\n",
    "from numpy import sort\n",
    "from xgboost import XGBClassifier\n",
    "from sklearn.model_selection import train_test_split\n",
    "from sklearn.metrics import balanced_accuracy_score\n",
    "from sklearn.feature_selection import SelectFromModel\n",
    "\n",
    "# example of auto-sklearn for a classification dataset\n",
    "from sklearn.datasets import make_classification\n",
    "from sklearn.model_selection import train_test_split\n",
    "from autosklearn.classification import AutoSklearnClassifier\n",
    "import autosklearn\n",
    "\n",
    "import copy\n",
    "import time\n",
    "import pickle\n",
    "import itertools\n",
    "from typing import List\n",
    "import datetime\n",
    "\n",
    "# pip install nb_black\n",
    "%load_ext nb_black"
   ]
  },
  {
   "cell_type": "code",
   "execution_count": 2,
   "id": "4057866c",
   "metadata": {},
   "outputs": [
    {
     "data": {
      "application/javascript": [
       "\n",
       "            setTimeout(function() {\n",
       "                var nbb_cell_id = 2;\n",
       "                var nbb_unformatted_code = \"def get_null_columns(df: pd.DataFrame) -> List:\\n    return [col for col in df.columns if np.any(df[col].isna())]\";\n",
       "                var nbb_formatted_code = \"def get_null_columns(df: pd.DataFrame) -> List:\\n    return [col for col in df.columns if np.any(df[col].isna())]\";\n",
       "                var nbb_cells = Jupyter.notebook.get_cells();\n",
       "                for (var i = 0; i < nbb_cells.length; ++i) {\n",
       "                    if (nbb_cells[i].input_prompt_number == nbb_cell_id) {\n",
       "                        if (nbb_cells[i].get_text() == nbb_unformatted_code) {\n",
       "                             nbb_cells[i].set_text(nbb_formatted_code);\n",
       "                        }\n",
       "                        break;\n",
       "                    }\n",
       "                }\n",
       "            }, 500);\n",
       "            "
      ],
      "text/plain": [
       "<IPython.core.display.Javascript object>"
      ]
     },
     "metadata": {},
     "output_type": "display_data"
    }
   ],
   "source": [
    "def get_null_columns(df: pd.DataFrame) -> List:\n",
    "    return [col for col in df.columns if np.any(df[col].isna())]"
   ]
  },
  {
   "cell_type": "code",
   "execution_count": 3,
   "id": "db6e7077",
   "metadata": {},
   "outputs": [
    {
     "data": {
      "application/javascript": [
       "\n",
       "            setTimeout(function() {\n",
       "                var nbb_cell_id = 3;\n",
       "                var nbb_unformatted_code = \"def print_null_columns(df: pd.DataFrame):\\n    print(\\\"Null Columns and Counts:\\\")\\n    for col in get_null_columns(df):\\n        print(\\\">\\\", col, \\\"Null Count:\\\", np.sum(df[col].isna()))\";\n",
       "                var nbb_formatted_code = \"def print_null_columns(df: pd.DataFrame):\\n    print(\\\"Null Columns and Counts:\\\")\\n    for col in get_null_columns(df):\\n        print(\\\">\\\", col, \\\"Null Count:\\\", np.sum(df[col].isna()))\";\n",
       "                var nbb_cells = Jupyter.notebook.get_cells();\n",
       "                for (var i = 0; i < nbb_cells.length; ++i) {\n",
       "                    if (nbb_cells[i].input_prompt_number == nbb_cell_id) {\n",
       "                        if (nbb_cells[i].get_text() == nbb_unformatted_code) {\n",
       "                             nbb_cells[i].set_text(nbb_formatted_code);\n",
       "                        }\n",
       "                        break;\n",
       "                    }\n",
       "                }\n",
       "            }, 500);\n",
       "            "
      ],
      "text/plain": [
       "<IPython.core.display.Javascript object>"
      ]
     },
     "metadata": {},
     "output_type": "display_data"
    }
   ],
   "source": [
    "def print_null_columns(df: pd.DataFrame):\n",
    "    print(\"Null Columns and Counts:\")\n",
    "    for col in get_null_columns(df):\n",
    "        print(\">\", col, \"Null Count:\", np.sum(df[col].isna()))"
   ]
  },
  {
   "cell_type": "code",
   "execution_count": 4,
   "id": "8a7a37ad",
   "metadata": {},
   "outputs": [
    {
     "data": {
      "application/javascript": [
       "\n",
       "            setTimeout(function() {\n",
       "                var nbb_cell_id = 4;\n",
       "                var nbb_unformatted_code = \"def type_separator(df: pd.DataFrame, print_results=True):\\n    set_separator = {}\\n    for col in df.columns:\\n\\n        if type(df[col].dtype) == pd.CategoricalDtype:\\n            a = \\\"cat\\\"\\n        else:\\n            a = {\\n                np.dtype(\\\"object\\\"): \\\"cat\\\",\\n                np.dtype(\\\"int\\\"): \\\"numerical\\\",\\n                np.dtype(\\\"int32\\\"): \\\"numerical\\\",\\n                np.dtype(\\\"int64\\\"): \\\"numerical\\\",\\n                np.dtype(\\\"uint8\\\"): \\\"numerical\\\",\\n                np.dtype(\\\"float\\\"): \\\"numerical\\\",\\n            }[df[col].dtype]\\n\\n        if a in list(set_separator.keys()):\\n            set_separator[a].append(col)\\n        else:\\n            set_separator[a] = [col]\\n\\n    if print_results:\\n        for key, val in set_separator.items():\\n            print(\\\"type:\\\", key, \\\"columns:\\\")\\n            for col in sorted(val):\\n                print(\\\">\\\", col)\\n            print(\\\"-\\\" * 32)\\n        return None\\n    return set_separator\";\n",
       "                var nbb_formatted_code = \"def type_separator(df: pd.DataFrame, print_results=True):\\n    set_separator = {}\\n    for col in df.columns:\\n\\n        if type(df[col].dtype) == pd.CategoricalDtype:\\n            a = \\\"cat\\\"\\n        else:\\n            a = {\\n                np.dtype(\\\"object\\\"): \\\"cat\\\",\\n                np.dtype(\\\"int\\\"): \\\"numerical\\\",\\n                np.dtype(\\\"int32\\\"): \\\"numerical\\\",\\n                np.dtype(\\\"int64\\\"): \\\"numerical\\\",\\n                np.dtype(\\\"uint8\\\"): \\\"numerical\\\",\\n                np.dtype(\\\"float\\\"): \\\"numerical\\\",\\n            }[df[col].dtype]\\n\\n        if a in list(set_separator.keys()):\\n            set_separator[a].append(col)\\n        else:\\n            set_separator[a] = [col]\\n\\n    if print_results:\\n        for key, val in set_separator.items():\\n            print(\\\"type:\\\", key, \\\"columns:\\\")\\n            for col in sorted(val):\\n                print(\\\">\\\", col)\\n            print(\\\"-\\\" * 32)\\n        return None\\n    return set_separator\";\n",
       "                var nbb_cells = Jupyter.notebook.get_cells();\n",
       "                for (var i = 0; i < nbb_cells.length; ++i) {\n",
       "                    if (nbb_cells[i].input_prompt_number == nbb_cell_id) {\n",
       "                        if (nbb_cells[i].get_text() == nbb_unformatted_code) {\n",
       "                             nbb_cells[i].set_text(nbb_formatted_code);\n",
       "                        }\n",
       "                        break;\n",
       "                    }\n",
       "                }\n",
       "            }, 500);\n",
       "            "
      ],
      "text/plain": [
       "<IPython.core.display.Javascript object>"
      ]
     },
     "metadata": {},
     "output_type": "display_data"
    }
   ],
   "source": [
    "def type_separator(df: pd.DataFrame, print_results=True):\n",
    "    set_separator = {}\n",
    "    for col in df.columns:\n",
    "\n",
    "        if type(df[col].dtype) == pd.CategoricalDtype:\n",
    "            a = \"cat\"\n",
    "        else:\n",
    "            a = {\n",
    "                np.dtype(\"object\"): \"cat\",\n",
    "                np.dtype(\"int\"): \"numerical\",\n",
    "                np.dtype(\"int32\"): \"numerical\",\n",
    "                np.dtype(\"int64\"): \"numerical\",\n",
    "                np.dtype(\"uint8\"): \"numerical\",\n",
    "                np.dtype(\"float\"): \"numerical\",\n",
    "            }[df[col].dtype]\n",
    "\n",
    "        if a in list(set_separator.keys()):\n",
    "            set_separator[a].append(col)\n",
    "        else:\n",
    "            set_separator[a] = [col]\n",
    "\n",
    "    if print_results:\n",
    "        for key, val in set_separator.items():\n",
    "            print(\"type:\", key, \"columns:\")\n",
    "            for col in sorted(val):\n",
    "                print(\">\", col)\n",
    "            print(\"-\" * 32)\n",
    "        return None\n",
    "    return set_separator"
   ]
  },
  {
   "cell_type": "code",
   "execution_count": 109,
   "id": "71a165e2",
   "metadata": {},
   "outputs": [
    {
     "name": "stdout",
     "output_type": "stream",
     "text": [
      "[IMPORTANT] Adding Less Than Features: True\n"
     ]
    },
    {
     "data": {
      "application/javascript": [
       "\n",
       "            setTimeout(function() {\n",
       "                var nbb_cell_id = 109;\n",
       "                var nbb_unformatted_code = \"# Read Data\\ndf = pd.read_csv(\\\"interim_data/df_completed_1_2_3_with_mv.csv\\\")\\n# df = pd.read_csv(\\\"interim_data/df_completed_1_2_3.csv\\\")\\n\\nid_columns = [\\\"CUSTOMER\\\", \\\"TEST_SET_ID\\\", \\\"IDX_CUSTOMER\\\"]\\nunnecessary_reduced_cols = [\\n    \\\"OFFER_TYPE_REDUCED_1\\\",\\n    \\\"OFFER_TYPE_REDUCED_2\\\",\\n    \\\"SALES_OFFICE_REDUCED\\\",\\n]\\n\\nto_be_dropped_cols = id_columns + unnecessary_reduced_cols\\ndf = df.drop(to_be_dropped_cols, axis=1)\\n\\n\\n# df[\\\"OFFER_STATUS\\\"] = df[\\\"OFFER_STATUS\\\"].astype(np.dtype(\\\"int\\\"))\\n# new columns\\ndf[\\\"ADDITIONAL_COST\\\"] = df[\\\"OFFER_PRICE\\\"] - df[\\\"MATERIAL_COST\\\"] - df[\\\"SERVICE_COST\\\"]\\ndf[\\\"TOTAL_COST\\\"] = df[\\\"MATERIAL_COST\\\"] + df[\\\"SERVICE_COST\\\"]\\n\\n###################\\n\\ntype_to_col = type_separator(df, print_results=False)\\nfor col in type_to_col[\\\"cat\\\"]:\\n    num_unq = len(df[col].unique())\\n    trimmed_col = col.strip().replace(\\\" \\\", \\\"_\\\")\\n    if num_unq < 5:\\n        # print(f\\\"[INFO] Col:{col},num_of_unq:{num_unq}, applying 1-HOT encoding.\\\")\\n        onehot_df = pd.get_dummies(df[col])\\n        onehot_df = onehot_df.add_prefix(trimmed_col + \\\"_1HOTENC_\\\")\\n        df = pd.concat((df, onehot_df), axis=1)\\n    elif num_unq >= 5:\\n        # print(f\\\"[INFO] Col:{col},num_of_unq:{num_unq}, applying BINARY encoding.\\\")\\n        encoder = ce.BinaryEncoder(cols=[col])\\n        binenc_df = encoder.fit_transform(df[[col]])\\n        binenc_df.columns = [\\n            f\\\"{trimmed_col}_BINENC_{i}\\\" for i in range(len(binenc_df.columns))\\n        ]\\n        df = pd.concat((df, binenc_df), axis=1)\\n\\nfor col in type_separator(df, print_results=False)[\\\"cat\\\"]:\\n    df[col] = pd.Categorical(df[col])\\n\\n##########################\\n\\n###### ADDITIONAL < FEATURES - START\\nadd_less_than_features = True\\nprint(\\\"[IMPORTANT] Adding Less Than Features:\\\", add_less_than_features)\\n\\nif add_less_than_features:\\n    raw_numeric_cols = [\\n        a\\n        for a in type_separator(df, print_results=False)[\\\"numerical\\\"]\\n        if not any(\\n            x in a\\n            for x in [\\n                \\\"OFFER_STATUS\\\",\\n                \\\"IS_NA\\\",\\n                \\\"HAS_\\\",\\n                \\\"1HOTENC\\\",\\n                \\\"BINENC\\\",\\n                \\\"IS_\\\",\\n                \\\"_LOG\\\",\\n            ]\\n        )\\n    ]\\n\\n    raw_numeric_cols_2_combinations = list(\\n        itertools.combinations(raw_numeric_cols, r=2)\\n    )\\n    new_less_than_cols = []\\n    for col1, col2 in raw_numeric_cols_2_combinations:\\n        new_col = np.where(\\n            np.isnan(df[col1]) | np.isnan(df[col2]), np.nan, (df[col1] < df[col2])\\n        )\\n        name_of_new_col = col1 + \\\"_<_\\\" + col2\\n\\n        if len(np.unique(new_col[~np.isnan(new_col)])) > 1:  # Not all values are 1 or 0\\n            new_less_than_cols.append(pd.Series(new_col, name=name_of_new_col))\\n            # print(f'[INFO] Added new \\\"less than\\\" column: \\\"{name_of_new_col}\\\".')\\n        else:\\n            pass  # print(f'[INFO] NOT added \\\"Less Then\\\" column: \\\"{name_of_new_col}\\\".')\\n\\n    df = pd.concat([df, pd.concat(new_less_than_cols, axis=1)], axis=1)\";\n",
       "                var nbb_formatted_code = \"# Read Data\\ndf = pd.read_csv(\\\"interim_data/df_completed_1_2_3_with_mv.csv\\\")\\n# df = pd.read_csv(\\\"interim_data/df_completed_1_2_3.csv\\\")\\n\\nid_columns = [\\\"CUSTOMER\\\", \\\"TEST_SET_ID\\\", \\\"IDX_CUSTOMER\\\"]\\nunnecessary_reduced_cols = [\\n    \\\"OFFER_TYPE_REDUCED_1\\\",\\n    \\\"OFFER_TYPE_REDUCED_2\\\",\\n    \\\"SALES_OFFICE_REDUCED\\\",\\n]\\n\\nto_be_dropped_cols = id_columns + unnecessary_reduced_cols\\ndf = df.drop(to_be_dropped_cols, axis=1)\\n\\n\\n# df[\\\"OFFER_STATUS\\\"] = df[\\\"OFFER_STATUS\\\"].astype(np.dtype(\\\"int\\\"))\\n# new columns\\ndf[\\\"ADDITIONAL_COST\\\"] = df[\\\"OFFER_PRICE\\\"] - df[\\\"MATERIAL_COST\\\"] - df[\\\"SERVICE_COST\\\"]\\ndf[\\\"TOTAL_COST\\\"] = df[\\\"MATERIAL_COST\\\"] + df[\\\"SERVICE_COST\\\"]\\n\\n###################\\n\\ntype_to_col = type_separator(df, print_results=False)\\nfor col in type_to_col[\\\"cat\\\"]:\\n    num_unq = len(df[col].unique())\\n    trimmed_col = col.strip().replace(\\\" \\\", \\\"_\\\")\\n    if num_unq < 5:\\n        # print(f\\\"[INFO] Col:{col},num_of_unq:{num_unq}, applying 1-HOT encoding.\\\")\\n        onehot_df = pd.get_dummies(df[col])\\n        onehot_df = onehot_df.add_prefix(trimmed_col + \\\"_1HOTENC_\\\")\\n        df = pd.concat((df, onehot_df), axis=1)\\n    elif num_unq >= 5:\\n        # print(f\\\"[INFO] Col:{col},num_of_unq:{num_unq}, applying BINARY encoding.\\\")\\n        encoder = ce.BinaryEncoder(cols=[col])\\n        binenc_df = encoder.fit_transform(df[[col]])\\n        binenc_df.columns = [\\n            f\\\"{trimmed_col}_BINENC_{i}\\\" for i in range(len(binenc_df.columns))\\n        ]\\n        df = pd.concat((df, binenc_df), axis=1)\\n\\nfor col in type_separator(df, print_results=False)[\\\"cat\\\"]:\\n    df[col] = pd.Categorical(df[col])\\n\\n##########################\\n\\n###### ADDITIONAL < FEATURES - START\\nadd_less_than_features = True\\nprint(\\\"[IMPORTANT] Adding Less Than Features:\\\", add_less_than_features)\\n\\nif add_less_than_features:\\n    raw_numeric_cols = [\\n        a\\n        for a in type_separator(df, print_results=False)[\\\"numerical\\\"]\\n        if not any(\\n            x in a\\n            for x in [\\n                \\\"OFFER_STATUS\\\",\\n                \\\"IS_NA\\\",\\n                \\\"HAS_\\\",\\n                \\\"1HOTENC\\\",\\n                \\\"BINENC\\\",\\n                \\\"IS_\\\",\\n                \\\"_LOG\\\",\\n            ]\\n        )\\n    ]\\n\\n    raw_numeric_cols_2_combinations = list(\\n        itertools.combinations(raw_numeric_cols, r=2)\\n    )\\n    new_less_than_cols = []\\n    for col1, col2 in raw_numeric_cols_2_combinations:\\n        new_col = np.where(\\n            np.isnan(df[col1]) | np.isnan(df[col2]), np.nan, (df[col1] < df[col2])\\n        )\\n        name_of_new_col = col1 + \\\"_<_\\\" + col2\\n\\n        if len(np.unique(new_col[~np.isnan(new_col)])) > 1:  # Not all values are 1 or 0\\n            new_less_than_cols.append(pd.Series(new_col, name=name_of_new_col))\\n            # print(f'[INFO] Added new \\\"less than\\\" column: \\\"{name_of_new_col}\\\".')\\n        else:\\n            pass  # print(f'[INFO] NOT added \\\"Less Then\\\" column: \\\"{name_of_new_col}\\\".')\\n\\n    df = pd.concat([df, pd.concat(new_less_than_cols, axis=1)], axis=1)\";\n",
       "                var nbb_cells = Jupyter.notebook.get_cells();\n",
       "                for (var i = 0; i < nbb_cells.length; ++i) {\n",
       "                    if (nbb_cells[i].input_prompt_number == nbb_cell_id) {\n",
       "                        if (nbb_cells[i].get_text() == nbb_unformatted_code) {\n",
       "                             nbb_cells[i].set_text(nbb_formatted_code);\n",
       "                        }\n",
       "                        break;\n",
       "                    }\n",
       "                }\n",
       "            }, 500);\n",
       "            "
      ],
      "text/plain": [
       "<IPython.core.display.Javascript object>"
      ]
     },
     "metadata": {},
     "output_type": "display_data"
    }
   ],
   "source": [
    "# Read Data\n",
    "df = pd.read_csv(\"interim_data/df_completed_1_2_3_with_mv.csv\")\n",
    "# df = pd.read_csv(\"interim_data/df_completed_1_2_3.csv\")\n",
    "\n",
    "id_columns = [\"CUSTOMER\", \"TEST_SET_ID\", \"IDX_CUSTOMER\"]\n",
    "unnecessary_reduced_cols = [\n",
    "    \"OFFER_TYPE_REDUCED_1\",\n",
    "    \"OFFER_TYPE_REDUCED_2\",\n",
    "    \"SALES_OFFICE_REDUCED\",\n",
    "]\n",
    "\n",
    "to_be_dropped_cols = id_columns + unnecessary_reduced_cols\n",
    "df = df.drop(to_be_dropped_cols, axis=1)\n",
    "\n",
    "\n",
    "# df[\"OFFER_STATUS\"] = df[\"OFFER_STATUS\"].astype(np.dtype(\"int\"))\n",
    "# new columns\n",
    "df[\"ADDITIONAL_COST\"] = df[\"OFFER_PRICE\"] - df[\"MATERIAL_COST\"] - df[\"SERVICE_COST\"]\n",
    "df[\"TOTAL_COST\"] = df[\"MATERIAL_COST\"] + df[\"SERVICE_COST\"]\n",
    "\n",
    "###################\n",
    "\n",
    "type_to_col = type_separator(df, print_results=False)\n",
    "for col in type_to_col[\"cat\"]:\n",
    "    num_unq = len(df[col].unique())\n",
    "    trimmed_col = col.strip().replace(\" \", \"_\")\n",
    "    if num_unq < 5:\n",
    "        # print(f\"[INFO] Col:{col},num_of_unq:{num_unq}, applying 1-HOT encoding.\")\n",
    "        onehot_df = pd.get_dummies(df[col])\n",
    "        onehot_df = onehot_df.add_prefix(trimmed_col + \"_1HOTENC_\")\n",
    "        df = pd.concat((df, onehot_df), axis=1)\n",
    "    elif num_unq >= 5:\n",
    "        # print(f\"[INFO] Col:{col},num_of_unq:{num_unq}, applying BINARY encoding.\")\n",
    "        encoder = ce.BinaryEncoder(cols=[col])\n",
    "        binenc_df = encoder.fit_transform(df[[col]])\n",
    "        binenc_df.columns = [\n",
    "            f\"{trimmed_col}_BINENC_{i}\" for i in range(len(binenc_df.columns))\n",
    "        ]\n",
    "        df = pd.concat((df, binenc_df), axis=1)\n",
    "\n",
    "for col in type_separator(df, print_results=False)[\"cat\"]:\n",
    "    df[col] = pd.Categorical(df[col])\n",
    "\n",
    "##########################\n",
    "\n",
    "###### ADDITIONAL < FEATURES - START\n",
    "add_less_than_features = True\n",
    "print(\"[IMPORTANT] Adding Less Than Features:\", add_less_than_features)\n",
    "\n",
    "if add_less_than_features:\n",
    "    raw_numeric_cols = [\n",
    "        a\n",
    "        for a in type_separator(df, print_results=False)[\"numerical\"]\n",
    "        if not any(\n",
    "            x in a\n",
    "            for x in [\n",
    "                \"OFFER_STATUS\",\n",
    "                \"IS_NA\",\n",
    "                \"HAS_\",\n",
    "                \"1HOTENC\",\n",
    "                \"BINENC\",\n",
    "                \"IS_\",\n",
    "                \"_LOG\",\n",
    "            ]\n",
    "        )\n",
    "    ]\n",
    "\n",
    "    raw_numeric_cols_2_combinations = list(\n",
    "        itertools.combinations(raw_numeric_cols, r=2)\n",
    "    )\n",
    "    new_less_than_cols = []\n",
    "    for col1, col2 in raw_numeric_cols_2_combinations:\n",
    "        new_col = np.where(\n",
    "            np.isnan(df[col1]) | np.isnan(df[col2]), np.nan, (df[col1] < df[col2])\n",
    "        )\n",
    "        name_of_new_col = col1 + \"_<_\" + col2\n",
    "\n",
    "        if len(np.unique(new_col[~np.isnan(new_col)])) > 1:  # Not all values are 1 or 0\n",
    "            new_less_than_cols.append(pd.Series(new_col, name=name_of_new_col))\n",
    "            # print(f'[INFO] Added new \"less than\" column: \"{name_of_new_col}\".')\n",
    "        else:\n",
    "            pass  # print(f'[INFO] NOT added \"Less Then\" column: \"{name_of_new_col}\".')\n",
    "\n",
    "    df = pd.concat([df, pd.concat(new_less_than_cols, axis=1)], axis=1)"
   ]
  },
  {
   "cell_type": "code",
   "execution_count": 110,
   "id": "0375287a",
   "metadata": {},
   "outputs": [
    {
     "name": "stdout",
     "output_type": "stream",
     "text": [
      "[INFO] Dropped: OWNERSHIP_NA_AS_NO_INFO_1HOTENC_Privately Owned/Publicly Traded\n",
      "[INFO] Dropped: OWNERSHIP_NA_AS_NO_INFO_REDUCED_1HOTENC_Privately Owned/Publicly Traded\n",
      "[INFO] Dropped: OWNERSHIP_NO_INFO_AS_NA_1HOTENC_Privately Owned/Publicly Traded\n",
      "[INFO] Dropped: OWNERSHIP_NO_INFO_AS_NA_REDUCED_1HOTENC_Privately Owned/Publicly Traded\n",
      "[INFO] Dropped: OWNERSHIP_NA_AS_NO_INFO_1HOTENC_Individual Person\n",
      "[INFO] Dropped: OWNERSHIP_NA_AS_NO_INFO_1HOTENC_Governmental\n",
      "[INFO] Dropped: OWNERSHIP_NA_AS_NO_INFO_1HOTENC_No information\n",
      "[INFO] Dropped: TECH_REDUCED_2_IS_F\n",
      "[INFO] Dropped: TECH_BINENC_0\n",
      "[INFO] Dropped: SINCE_CREATION_YEAR_<_REV_PERCENTAGE_INCREASE_NO_OUTLIER\n",
      "[INFO] Dropped: TOTAL_COSTS_PRODUCT_LOG\n",
      "[INFO] Dropped: CURRENCY_BINENC_0\n",
      "[INFO] Dropped: OWNERSHIP_BINENC_0\n",
      "[INFO] Dropped: OWNERSHIP_NO_INFO_AS_NA_1HOTENC_Individual Person\n",
      "[INFO] Dropped: IS_NA_SALES_LOCATION\n",
      "[INFO] Dropped: IS_NA_SALES_OFFICE\n",
      "[INFO] Dropped: SERVICE_COST_<_CREATION_YEAR\n",
      "[INFO] Dropped: REV_CURRENT_YEAR.1_<_REV_PERCENTAGE_INCREASE\n",
      "[INFO] Dropped: CREATION_YEAR_<_TOTAL_COST\n",
      "[INFO] Dropped: CREATION_YEAR_<_REV_PERCENTAGE_INCREASE\n",
      "[INFO] Dropped: CREATION_YEAR_<_ADDITIONAL_COST\n"
     ]
    },
    {
     "data": {
      "application/javascript": [
       "\n",
       "            setTimeout(function() {\n",
       "                var nbb_cell_id = 110;\n",
       "                var nbb_unformatted_code = \"############# DROPPP -START\\ndrop_cols = [\\n    ############## Correlation are same or very similar\\n    \\\"OWNERSHIP_NA_AS_NO_INFO_1HOTENC_Privately Owned/Publicly Traded\\\",\\n    \\\"OWNERSHIP_NA_AS_NO_INFO_REDUCED_1HOTENC_Privately Owned/Publicly Traded\\\",\\n    \\\"OWNERSHIP_NO_INFO_AS_NA_1HOTENC_Privately Owned/Publicly Traded\\\",\\n    \\\"OWNERSHIP_NO_INFO_AS_NA_REDUCED_1HOTENC_Privately Owned/Publicly Traded\\\",\\n    \\\"OWNERSHIP_NA_AS_NO_INFO_1HOTENC_Individual Person\\\",\\n    \\\"OWNERSHIP_NA_AS_NO_INFO_1HOTENC_Governmental\\\",\\n    \\\"OWNERSHIP_NA_AS_NO_INFO_1HOTENC_No information\\\",\\n    \\\"OWNERSHIP_NO_INFO_AS_NA_REDUCED_1HOTENC_NOT_GIVEN\\\",\\n    \\\"OWNERSHIP_NO_INFO_AS_NA_1HOTENC_NOT_GIVEN\\\",\\n    \\\"OWNERSHIP_REDUCED_1HOTENC_NOT_GIVEN\\\",\\n    \\\"TECH_REDUCED_2_IS_F\\\",\\n    \\\"TECH_BINENC_0\\\",\\n    \\\"SINCE_CREATION_YEAR_<_REV_PERCENTAGE_INCREASE_NO_OUTLIER\\\",  # (34, False)\\n    ############## Experimentally\\n    \\\"TOTAL_COSTS_PRODUCT_LOG\\\",\\n    ## Boruta Results\\n    #'HAS_COSTS_PRODUCT_C' , # (11, False)\\n    #'SALES_LOCATION_BINENC_2' , # (11, False)\\n    #'SALES_LOCATION_BINENC_5' , # (11, False)\\n    #'SALES_OFFICE_BINENC_5' , # (11, False)\\n    #'PRICE_LIST_1HOTENC_CMT End Customer' , # (13, False)\\n    #'CURRENCY_BINENC_1' , # (15, False)\\n    #'HAS_COSTS_PRODUCT_E' , # (15, False)\\n    #'CURRENCY_BINENC_2' , # (17, False)\\n    #'SALES_LOCATION_BINENC_0' , # (17, False)\\n    #'SALES_OFFICE_BINENC_0' , # (17, False)\\n    \\\"CURRENCY_BINENC_0\\\",  # (19, False)\\n    \\\"OWNERSHIP_BINENC_0\\\",  # (20, False)\\n    \\\"OWNERSHIP_NO_INFO_AS_NA_1HOTENC_Individual Person\\\",  # (21, False)\\n    \\\"IS_NA_SALES_LOCATION\\\",  # (22, False)\\n    \\\"IS_NA_SALES_OFFICE\\\",  # (23, False)\\n    ## From XGB Feature Importance\\n    # \\\"OFFER_PRICE_<_REV_PERCENTAGE_INCREASE\\\",  # 0.03901156038045883\\n    # \\\"REV_PERCENTAGE_INCREASE_<_TOTAL_COST\\\",  # 0.03355308994650841\\n    # \\\"SINCE_CREATION_YEAR_<_SO_CREATED_DATE_SCALED\\\",  # 0.028346635401248932\\n    # \\\"SERVICE_LIST_PRICE_<_SERVICE_COST\\\",  # 0.020826183259487152\\n    # \\\"SERVICE_COST_<_REV_CURRENT_YEAR.1\\\",  # 0.011560462415218353\\n    # \\\"MATERIAL_COST_<_REV_CURRENT_YEAR.1\\\",  # 0.008442980237305164\\n    # \\\"SERVICE_LIST_PRICE_<_REV_CURRENT_YEAR.1\\\",  # 0.00834011472761631\\n    # \\\"REV_CURRENT_YEAR.2_<_TOTAL_COST\\\",  # 0.007833493873476982\\n    # \\\"TOTAL_COSTS_PRODUCT_<_SO_CREATED_DATE_SCALED\\\",  # 0.007648177444934845\\n    # \\\"SERVICE_LIST_PRICE_<_TOTAL_COST\\\",  # 0.007083372678607702\\n    # \\\"SERVICE_LIST_PRICE_<_REV_PERCENTAGE_INCREASE\\\",  # 0.007078474387526512\\n    # \\\"SERVICE_LIST_PRICE_<_ADDITIONAL_COST\\\",  # 0.007031504064798355\\n    # \\\"MATERIAL_COST_<_ADDITIONAL_COST\\\",  # 0.0062048910185694695\\n    # \\\"REV_PERCENTAGE_INCREASE_<_ADDITIONAL_COST\\\",  # 0.005901111755520105\\n    # \\\"OFFER_PRICE_<_REV_CURRENT_YEAR.1\\\",  # 0.005844731815159321\\n    # \\\"REV_CURRENT_YEAR.1_<_ADDITIONAL_COST\\\",  # 0.005387913901358843\\n    # \\\"MATERIAL_COST_<_REV_PERCENTAGE_INCREASE\\\",  # 0.0052901399321854115\\n    # \\\"REV_PERCENTAGE_INCREASE_<_SO_CREATED_DATE_SCALED\\\",  # 0.005108097568154335\\n    # \\\"SO_CREATED_DATE_SCALED_<_REV_PERCENTAGE_INCREASE_NO_OUTLIER\\\",  # 0.005060083232820034\\n    # \\\"REV_CURRENT_YEAR.2_<_ADDITIONAL_COST\\\",  # 0.004588569980114698\\n    # \\\"MATERIAL_COST_<_SERVICE_COST\\\",  # 0.004372822120785713\\n    # \\\"SERVICE_COST_<_ADDITIONAL_COST\\\",  # 0.004095220938324928\\n    # \\\"SERVICE_COST_<_REV_PERCENTAGE_INCREASE\\\",  # 0.003644987242296338\\n    # \\\"SERVICE_COST_<_REV_CURRENT_YEAR.2\\\",  # 0.0022056959569454193\\n    \\\"SERVICE_COST_<_CREATION_YEAR\\\",  # 0.0\\n    \\\"REV_CURRENT_YEAR.1_<_REV_PERCENTAGE_INCREASE\\\",  # 0.0\\n    \\\"CREATION_YEAR_<_TOTAL_COST\\\",  # 0.0\\n    \\\"CREATION_YEAR_<_REV_PERCENTAGE_INCREASE\\\",  # 0.0\\n    \\\"CREATION_YEAR_<_ADDITIONAL_COST\\\",  # 0.0\\n]\\n\\nfor col in drop_cols:\\n    if col in list(df.columns):\\n        print(\\\"[INFO] Dropped:\\\", col)\\n        df = df.drop(col, axis=1)\";\n",
       "                var nbb_formatted_code = \"############# DROPPP -START\\ndrop_cols = [\\n    ############## Correlation are same or very similar\\n    \\\"OWNERSHIP_NA_AS_NO_INFO_1HOTENC_Privately Owned/Publicly Traded\\\",\\n    \\\"OWNERSHIP_NA_AS_NO_INFO_REDUCED_1HOTENC_Privately Owned/Publicly Traded\\\",\\n    \\\"OWNERSHIP_NO_INFO_AS_NA_1HOTENC_Privately Owned/Publicly Traded\\\",\\n    \\\"OWNERSHIP_NO_INFO_AS_NA_REDUCED_1HOTENC_Privately Owned/Publicly Traded\\\",\\n    \\\"OWNERSHIP_NA_AS_NO_INFO_1HOTENC_Individual Person\\\",\\n    \\\"OWNERSHIP_NA_AS_NO_INFO_1HOTENC_Governmental\\\",\\n    \\\"OWNERSHIP_NA_AS_NO_INFO_1HOTENC_No information\\\",\\n    \\\"OWNERSHIP_NO_INFO_AS_NA_REDUCED_1HOTENC_NOT_GIVEN\\\",\\n    \\\"OWNERSHIP_NO_INFO_AS_NA_1HOTENC_NOT_GIVEN\\\",\\n    \\\"OWNERSHIP_REDUCED_1HOTENC_NOT_GIVEN\\\",\\n    \\\"TECH_REDUCED_2_IS_F\\\",\\n    \\\"TECH_BINENC_0\\\",\\n    \\\"SINCE_CREATION_YEAR_<_REV_PERCENTAGE_INCREASE_NO_OUTLIER\\\",  # (34, False)\\n    ############## Experimentally\\n    \\\"TOTAL_COSTS_PRODUCT_LOG\\\",\\n    ## Boruta Results\\n    #'HAS_COSTS_PRODUCT_C' , # (11, False)\\n    #'SALES_LOCATION_BINENC_2' , # (11, False)\\n    #'SALES_LOCATION_BINENC_5' , # (11, False)\\n    #'SALES_OFFICE_BINENC_5' , # (11, False)\\n    #'PRICE_LIST_1HOTENC_CMT End Customer' , # (13, False)\\n    #'CURRENCY_BINENC_1' , # (15, False)\\n    #'HAS_COSTS_PRODUCT_E' , # (15, False)\\n    #'CURRENCY_BINENC_2' , # (17, False)\\n    #'SALES_LOCATION_BINENC_0' , # (17, False)\\n    #'SALES_OFFICE_BINENC_0' , # (17, False)\\n    \\\"CURRENCY_BINENC_0\\\",  # (19, False)\\n    \\\"OWNERSHIP_BINENC_0\\\",  # (20, False)\\n    \\\"OWNERSHIP_NO_INFO_AS_NA_1HOTENC_Individual Person\\\",  # (21, False)\\n    \\\"IS_NA_SALES_LOCATION\\\",  # (22, False)\\n    \\\"IS_NA_SALES_OFFICE\\\",  # (23, False)\\n    ## From XGB Feature Importance\\n    # \\\"OFFER_PRICE_<_REV_PERCENTAGE_INCREASE\\\",  # 0.03901156038045883\\n    # \\\"REV_PERCENTAGE_INCREASE_<_TOTAL_COST\\\",  # 0.03355308994650841\\n    # \\\"SINCE_CREATION_YEAR_<_SO_CREATED_DATE_SCALED\\\",  # 0.028346635401248932\\n    # \\\"SERVICE_LIST_PRICE_<_SERVICE_COST\\\",  # 0.020826183259487152\\n    # \\\"SERVICE_COST_<_REV_CURRENT_YEAR.1\\\",  # 0.011560462415218353\\n    # \\\"MATERIAL_COST_<_REV_CURRENT_YEAR.1\\\",  # 0.008442980237305164\\n    # \\\"SERVICE_LIST_PRICE_<_REV_CURRENT_YEAR.1\\\",  # 0.00834011472761631\\n    # \\\"REV_CURRENT_YEAR.2_<_TOTAL_COST\\\",  # 0.007833493873476982\\n    # \\\"TOTAL_COSTS_PRODUCT_<_SO_CREATED_DATE_SCALED\\\",  # 0.007648177444934845\\n    # \\\"SERVICE_LIST_PRICE_<_TOTAL_COST\\\",  # 0.007083372678607702\\n    # \\\"SERVICE_LIST_PRICE_<_REV_PERCENTAGE_INCREASE\\\",  # 0.007078474387526512\\n    # \\\"SERVICE_LIST_PRICE_<_ADDITIONAL_COST\\\",  # 0.007031504064798355\\n    # \\\"MATERIAL_COST_<_ADDITIONAL_COST\\\",  # 0.0062048910185694695\\n    # \\\"REV_PERCENTAGE_INCREASE_<_ADDITIONAL_COST\\\",  # 0.005901111755520105\\n    # \\\"OFFER_PRICE_<_REV_CURRENT_YEAR.1\\\",  # 0.005844731815159321\\n    # \\\"REV_CURRENT_YEAR.1_<_ADDITIONAL_COST\\\",  # 0.005387913901358843\\n    # \\\"MATERIAL_COST_<_REV_PERCENTAGE_INCREASE\\\",  # 0.0052901399321854115\\n    # \\\"REV_PERCENTAGE_INCREASE_<_SO_CREATED_DATE_SCALED\\\",  # 0.005108097568154335\\n    # \\\"SO_CREATED_DATE_SCALED_<_REV_PERCENTAGE_INCREASE_NO_OUTLIER\\\",  # 0.005060083232820034\\n    # \\\"REV_CURRENT_YEAR.2_<_ADDITIONAL_COST\\\",  # 0.004588569980114698\\n    # \\\"MATERIAL_COST_<_SERVICE_COST\\\",  # 0.004372822120785713\\n    # \\\"SERVICE_COST_<_ADDITIONAL_COST\\\",  # 0.004095220938324928\\n    # \\\"SERVICE_COST_<_REV_PERCENTAGE_INCREASE\\\",  # 0.003644987242296338\\n    # \\\"SERVICE_COST_<_REV_CURRENT_YEAR.2\\\",  # 0.0022056959569454193\\n    \\\"SERVICE_COST_<_CREATION_YEAR\\\",  # 0.0\\n    \\\"REV_CURRENT_YEAR.1_<_REV_PERCENTAGE_INCREASE\\\",  # 0.0\\n    \\\"CREATION_YEAR_<_TOTAL_COST\\\",  # 0.0\\n    \\\"CREATION_YEAR_<_REV_PERCENTAGE_INCREASE\\\",  # 0.0\\n    \\\"CREATION_YEAR_<_ADDITIONAL_COST\\\",  # 0.0\\n]\\n\\nfor col in drop_cols:\\n    if col in list(df.columns):\\n        print(\\\"[INFO] Dropped:\\\", col)\\n        df = df.drop(col, axis=1)\";\n",
       "                var nbb_cells = Jupyter.notebook.get_cells();\n",
       "                for (var i = 0; i < nbb_cells.length; ++i) {\n",
       "                    if (nbb_cells[i].input_prompt_number == nbb_cell_id) {\n",
       "                        if (nbb_cells[i].get_text() == nbb_unformatted_code) {\n",
       "                             nbb_cells[i].set_text(nbb_formatted_code);\n",
       "                        }\n",
       "                        break;\n",
       "                    }\n",
       "                }\n",
       "            }, 500);\n",
       "            "
      ],
      "text/plain": [
       "<IPython.core.display.Javascript object>"
      ]
     },
     "metadata": {},
     "output_type": "display_data"
    }
   ],
   "source": [
    "############# DROPPP -START\n",
    "drop_cols = [\n",
    "    ############## Correlation are same or very similar\n",
    "    \"OWNERSHIP_NA_AS_NO_INFO_1HOTENC_Privately Owned/Publicly Traded\",\n",
    "    \"OWNERSHIP_NA_AS_NO_INFO_REDUCED_1HOTENC_Privately Owned/Publicly Traded\",\n",
    "    \"OWNERSHIP_NO_INFO_AS_NA_1HOTENC_Privately Owned/Publicly Traded\",\n",
    "    \"OWNERSHIP_NO_INFO_AS_NA_REDUCED_1HOTENC_Privately Owned/Publicly Traded\",\n",
    "    \"OWNERSHIP_NA_AS_NO_INFO_1HOTENC_Individual Person\",\n",
    "    \"OWNERSHIP_NA_AS_NO_INFO_1HOTENC_Governmental\",\n",
    "    \"OWNERSHIP_NA_AS_NO_INFO_1HOTENC_No information\",\n",
    "    \"OWNERSHIP_NO_INFO_AS_NA_REDUCED_1HOTENC_NOT_GIVEN\",\n",
    "    \"OWNERSHIP_NO_INFO_AS_NA_1HOTENC_NOT_GIVEN\",\n",
    "    \"OWNERSHIP_REDUCED_1HOTENC_NOT_GIVEN\",\n",
    "    \"TECH_REDUCED_2_IS_F\",\n",
    "    \"TECH_BINENC_0\",\n",
    "    \"SINCE_CREATION_YEAR_<_REV_PERCENTAGE_INCREASE_NO_OUTLIER\",  # (34, False)\n",
    "    ############## Experimentally\n",
    "    \"TOTAL_COSTS_PRODUCT_LOG\",\n",
    "    ## Boruta Results\n",
    "    #'HAS_COSTS_PRODUCT_C' , # (11, False)\n",
    "    #'SALES_LOCATION_BINENC_2' , # (11, False)\n",
    "    #'SALES_LOCATION_BINENC_5' , # (11, False)\n",
    "    #'SALES_OFFICE_BINENC_5' , # (11, False)\n",
    "    #'PRICE_LIST_1HOTENC_CMT End Customer' , # (13, False)\n",
    "    #'CURRENCY_BINENC_1' , # (15, False)\n",
    "    #'HAS_COSTS_PRODUCT_E' , # (15, False)\n",
    "    #'CURRENCY_BINENC_2' , # (17, False)\n",
    "    #'SALES_LOCATION_BINENC_0' , # (17, False)\n",
    "    #'SALES_OFFICE_BINENC_0' , # (17, False)\n",
    "    \"CURRENCY_BINENC_0\",  # (19, False)\n",
    "    \"OWNERSHIP_BINENC_0\",  # (20, False)\n",
    "    \"OWNERSHIP_NO_INFO_AS_NA_1HOTENC_Individual Person\",  # (21, False)\n",
    "    \"IS_NA_SALES_LOCATION\",  # (22, False)\n",
    "    \"IS_NA_SALES_OFFICE\",  # (23, False)\n",
    "    ## From XGB Feature Importance\n",
    "    # \"OFFER_PRICE_<_REV_PERCENTAGE_INCREASE\",  # 0.03901156038045883\n",
    "    # \"REV_PERCENTAGE_INCREASE_<_TOTAL_COST\",  # 0.03355308994650841\n",
    "    # \"SINCE_CREATION_YEAR_<_SO_CREATED_DATE_SCALED\",  # 0.028346635401248932\n",
    "    # \"SERVICE_LIST_PRICE_<_SERVICE_COST\",  # 0.020826183259487152\n",
    "    # \"SERVICE_COST_<_REV_CURRENT_YEAR.1\",  # 0.011560462415218353\n",
    "    # \"MATERIAL_COST_<_REV_CURRENT_YEAR.1\",  # 0.008442980237305164\n",
    "    # \"SERVICE_LIST_PRICE_<_REV_CURRENT_YEAR.1\",  # 0.00834011472761631\n",
    "    # \"REV_CURRENT_YEAR.2_<_TOTAL_COST\",  # 0.007833493873476982\n",
    "    # \"TOTAL_COSTS_PRODUCT_<_SO_CREATED_DATE_SCALED\",  # 0.007648177444934845\n",
    "    # \"SERVICE_LIST_PRICE_<_TOTAL_COST\",  # 0.007083372678607702\n",
    "    # \"SERVICE_LIST_PRICE_<_REV_PERCENTAGE_INCREASE\",  # 0.007078474387526512\n",
    "    # \"SERVICE_LIST_PRICE_<_ADDITIONAL_COST\",  # 0.007031504064798355\n",
    "    # \"MATERIAL_COST_<_ADDITIONAL_COST\",  # 0.0062048910185694695\n",
    "    # \"REV_PERCENTAGE_INCREASE_<_ADDITIONAL_COST\",  # 0.005901111755520105\n",
    "    # \"OFFER_PRICE_<_REV_CURRENT_YEAR.1\",  # 0.005844731815159321\n",
    "    # \"REV_CURRENT_YEAR.1_<_ADDITIONAL_COST\",  # 0.005387913901358843\n",
    "    # \"MATERIAL_COST_<_REV_PERCENTAGE_INCREASE\",  # 0.0052901399321854115\n",
    "    # \"REV_PERCENTAGE_INCREASE_<_SO_CREATED_DATE_SCALED\",  # 0.005108097568154335\n",
    "    # \"SO_CREATED_DATE_SCALED_<_REV_PERCENTAGE_INCREASE_NO_OUTLIER\",  # 0.005060083232820034\n",
    "    # \"REV_CURRENT_YEAR.2_<_ADDITIONAL_COST\",  # 0.004588569980114698\n",
    "    # \"MATERIAL_COST_<_SERVICE_COST\",  # 0.004372822120785713\n",
    "    # \"SERVICE_COST_<_ADDITIONAL_COST\",  # 0.004095220938324928\n",
    "    # \"SERVICE_COST_<_REV_PERCENTAGE_INCREASE\",  # 0.003644987242296338\n",
    "    # \"SERVICE_COST_<_REV_CURRENT_YEAR.2\",  # 0.0022056959569454193\n",
    "    \"SERVICE_COST_<_CREATION_YEAR\",  # 0.0\n",
    "    \"REV_CURRENT_YEAR.1_<_REV_PERCENTAGE_INCREASE\",  # 0.0\n",
    "    \"CREATION_YEAR_<_TOTAL_COST\",  # 0.0\n",
    "    \"CREATION_YEAR_<_REV_PERCENTAGE_INCREASE\",  # 0.0\n",
    "    \"CREATION_YEAR_<_ADDITIONAL_COST\",  # 0.0\n",
    "]\n",
    "\n",
    "for col in drop_cols:\n",
    "    if col in list(df.columns):\n",
    "        print(\"[INFO] Dropped:\", col)\n",
    "        df = df.drop(col, axis=1)"
   ]
  },
  {
   "cell_type": "code",
   "execution_count": 111,
   "id": "f28bede9",
   "metadata": {},
   "outputs": [
    {
     "data": {
      "application/javascript": [
       "\n",
       "            setTimeout(function() {\n",
       "                var nbb_cell_id = 111;\n",
       "                var nbb_unformatted_code = \"look_at_feature_importance = False\\nif look_at_feature_importance:\\n    ############################################## FEATURE IMPORTANCE INTERVENTION - START\\n    from boruta import BorutaPy\\n    from sklearn.ensemble import RandomForestClassifier\\n\\n    df_new = df[~np.isnan(df[\\\"OFFER_STATUS\\\"])].copy()\\n    columns_to_be_dropped = get_null_columns(df_new)\\n    if \\\"cat\\\" in type_separator(df_new, False):\\n        columns_to_be_dropped += [\\n            col for col in type_separator(df_new, False)[\\\"cat\\\"] if col in df_new.columns\\n        ]\\n    columns_to_be_dropped = set(columns_to_be_dropped)\\n    if \\\"OFFER_STATUS\\\" in columns_to_be_dropped:\\n        columns_to_be_dropped.remove(\\\"OFFER_STATUS\\\")\\n\\n    df_new = df_new.drop(columns_to_be_dropped, axis=1)\\n    X, y = df_new.drop(\\\"OFFER_STATUS\\\", axis=1), df_new[\\\"OFFER_STATUS\\\"]\\n\\n    # define random forest classifier\\n    forest = RandomForestClassifier(n_jobs=-1, class_weight=\\\"balanced\\\", max_depth=5)\\n    forest.fit(X, y)\\n\\n    # define Boruta feature selection method\\n    feat_selector = BorutaPy(\\n        forest,\\n        # n_jobs=-1,\\n        # class_weight=\\\"balanced\\\",\\n        n_estimators=\\\"auto\\\",\\n        verbose=2,\\n        random_state=42,\\n    )\\n\\n    # find all relevant features\\n    feat_selector.fit(X.to_numpy(), y.to_numpy())\\n\\n    # check selected features\\n    print(feat_selector.support_)\\n\\n    # check ranking of features\\n    print(feat_selector.ranking_)\\n\\n    # check selected features\\n\\n    a = list(\\n        zip(list(feat_selector.ranking_), list(feat_selector.support_), list(X.columns))\\n    )\\n\\n    for item in sorted(a):\\n        print(item, \\\",\\\")\\n    ############################################## FEATURE IMPORTANCE INTERVENTION - STOP\";\n",
       "                var nbb_formatted_code = \"look_at_feature_importance = False\\nif look_at_feature_importance:\\n    ############################################## FEATURE IMPORTANCE INTERVENTION - START\\n    from boruta import BorutaPy\\n    from sklearn.ensemble import RandomForestClassifier\\n\\n    df_new = df[~np.isnan(df[\\\"OFFER_STATUS\\\"])].copy()\\n    columns_to_be_dropped = get_null_columns(df_new)\\n    if \\\"cat\\\" in type_separator(df_new, False):\\n        columns_to_be_dropped += [\\n            col for col in type_separator(df_new, False)[\\\"cat\\\"] if col in df_new.columns\\n        ]\\n    columns_to_be_dropped = set(columns_to_be_dropped)\\n    if \\\"OFFER_STATUS\\\" in columns_to_be_dropped:\\n        columns_to_be_dropped.remove(\\\"OFFER_STATUS\\\")\\n\\n    df_new = df_new.drop(columns_to_be_dropped, axis=1)\\n    X, y = df_new.drop(\\\"OFFER_STATUS\\\", axis=1), df_new[\\\"OFFER_STATUS\\\"]\\n\\n    # define random forest classifier\\n    forest = RandomForestClassifier(n_jobs=-1, class_weight=\\\"balanced\\\", max_depth=5)\\n    forest.fit(X, y)\\n\\n    # define Boruta feature selection method\\n    feat_selector = BorutaPy(\\n        forest,\\n        # n_jobs=-1,\\n        # class_weight=\\\"balanced\\\",\\n        n_estimators=\\\"auto\\\",\\n        verbose=2,\\n        random_state=42,\\n    )\\n\\n    # find all relevant features\\n    feat_selector.fit(X.to_numpy(), y.to_numpy())\\n\\n    # check selected features\\n    print(feat_selector.support_)\\n\\n    # check ranking of features\\n    print(feat_selector.ranking_)\\n\\n    # check selected features\\n\\n    a = list(\\n        zip(list(feat_selector.ranking_), list(feat_selector.support_), list(X.columns))\\n    )\\n\\n    for item in sorted(a):\\n        print(item, \\\",\\\")\\n    ############################################## FEATURE IMPORTANCE INTERVENTION - STOP\";\n",
       "                var nbb_cells = Jupyter.notebook.get_cells();\n",
       "                for (var i = 0; i < nbb_cells.length; ++i) {\n",
       "                    if (nbb_cells[i].input_prompt_number == nbb_cell_id) {\n",
       "                        if (nbb_cells[i].get_text() == nbb_unformatted_code) {\n",
       "                             nbb_cells[i].set_text(nbb_formatted_code);\n",
       "                        }\n",
       "                        break;\n",
       "                    }\n",
       "                }\n",
       "            }, 500);\n",
       "            "
      ],
      "text/plain": [
       "<IPython.core.display.Javascript object>"
      ]
     },
     "metadata": {},
     "output_type": "display_data"
    }
   ],
   "source": [
    "look_at_feature_importance = False\n",
    "if look_at_feature_importance:\n",
    "    ############################################## FEATURE IMPORTANCE INTERVENTION - START\n",
    "    from boruta import BorutaPy\n",
    "    from sklearn.ensemble import RandomForestClassifier\n",
    "\n",
    "    df_new = df[~np.isnan(df[\"OFFER_STATUS\"])].copy()\n",
    "    columns_to_be_dropped = get_null_columns(df_new)\n",
    "    if \"cat\" in type_separator(df_new, False):\n",
    "        columns_to_be_dropped += [\n",
    "            col for col in type_separator(df_new, False)[\"cat\"] if col in df_new.columns\n",
    "        ]\n",
    "    columns_to_be_dropped = set(columns_to_be_dropped)\n",
    "    if \"OFFER_STATUS\" in columns_to_be_dropped:\n",
    "        columns_to_be_dropped.remove(\"OFFER_STATUS\")\n",
    "\n",
    "    df_new = df_new.drop(columns_to_be_dropped, axis=1)\n",
    "    X, y = df_new.drop(\"OFFER_STATUS\", axis=1), df_new[\"OFFER_STATUS\"]\n",
    "\n",
    "    # define random forest classifier\n",
    "    forest = RandomForestClassifier(n_jobs=-1, class_weight=\"balanced\", max_depth=5)\n",
    "    forest.fit(X, y)\n",
    "\n",
    "    # define Boruta feature selection method\n",
    "    feat_selector = BorutaPy(\n",
    "        forest,\n",
    "        # n_jobs=-1,\n",
    "        # class_weight=\"balanced\",\n",
    "        n_estimators=\"auto\",\n",
    "        verbose=2,\n",
    "        random_state=42,\n",
    "    )\n",
    "\n",
    "    # find all relevant features\n",
    "    feat_selector.fit(X.to_numpy(), y.to_numpy())\n",
    "\n",
    "    # check selected features\n",
    "    print(feat_selector.support_)\n",
    "\n",
    "    # check ranking of features\n",
    "    print(feat_selector.ranking_)\n",
    "\n",
    "    # check selected features\n",
    "\n",
    "    a = list(\n",
    "        zip(list(feat_selector.ranking_), list(feat_selector.support_), list(X.columns))\n",
    "    )\n",
    "\n",
    "    for item in sorted(a):\n",
    "        print(item, \",\")\n",
    "    ############################################## FEATURE IMPORTANCE INTERVENTION - STOP"
   ]
  },
  {
   "cell_type": "code",
   "execution_count": 122,
   "id": "5ef3076d",
   "metadata": {},
   "outputs": [
    {
     "name": "stderr",
     "output_type": "stream",
     "text": [
      "/home/iceking/Desktop/TUM Lecture Docs/3. Business Analytics and Machine Learning (IN2028)/Analytics Cup/Project Files/venv/lib/python3.8/site-packages/autosklearn/data/feature_validator.py:209: SettingWithCopyWarning: \n",
      "A value is trying to be set on a copy of a slice from a DataFrame.\n",
      "Try using .loc[row_indexer,col_indexer] = value instead\n",
      "\n",
      "See the caveats in the documentation: https://pandas.pydata.org/pandas-docs/stable/user_guide/indexing.html#returning-a-view-versus-a-copy\n",
      "  X[column] = X[column].astype('category')\n",
      "/tmp/ipykernel_227940/3260068050.py:8: SettingWithCopyWarning: \n",
      "A value is trying to be set on a copy of a slice from a DataFrame.\n",
      "Try using .loc[row_indexer,col_indexer] = value instead\n",
      "\n",
      "See the caveats in the documentation: https://pandas.pydata.org/pandas-docs/stable/user_guide/indexing.html#returning-a-view-versus-a-copy\n",
      "  real_test[\"prediction\"] = model2.predict(real_test)\n"
     ]
    },
    {
     "data": {
      "application/javascript": [
       "\n",
       "            setTimeout(function() {\n",
       "                var nbb_cell_id = 122;\n",
       "                var nbb_unformatted_code = \"predict_final = True\\nif predict_final:\\n    df_tmp = pd.read_csv(\\\"interim_data/df_completed_1_2_3_with_mv.csv\\\")\\n    test_set_id_col =  df_tmp[np.isnan(df_tmp[\\\"OFFER_STATUS\\\"])][\\\"TEST_SET_ID\\\"]\\n    \\n    ## Predict BREAK - start\\n    real_test = df[np.isnan(df[\\\"OFFER_STATUS\\\"])]\\n    real_test[\\\"prediction\\\"] = model2.predict(real_test)\\n    real_test = pd.concat([real_test[\\\"prediction\\\"], test_set_id_col], axis=1)\\n    real_test = real_test.rename(columns={\\\"TEST_SET_ID\\\": \\\"id\\\"})\\n    real_test[\\\"id\\\"] = real_test[\\\"id\\\"].astype(int)\\n\\n    ## Predict BREAK - stop\";\n",
       "                var nbb_formatted_code = \"predict_final = True\\nif predict_final:\\n    df_tmp = pd.read_csv(\\\"interim_data/df_completed_1_2_3_with_mv.csv\\\")\\n    test_set_id_col = df_tmp[np.isnan(df_tmp[\\\"OFFER_STATUS\\\"])][\\\"TEST_SET_ID\\\"]\\n\\n    ## Predict BREAK - start\\n    real_test = df[np.isnan(df[\\\"OFFER_STATUS\\\"])]\\n    real_test[\\\"prediction\\\"] = model2.predict(real_test)\\n    real_test = pd.concat([real_test[\\\"prediction\\\"], test_set_id_col], axis=1)\\n    real_test = real_test.rename(columns={\\\"TEST_SET_ID\\\": \\\"id\\\"})\\n    real_test[\\\"id\\\"] = real_test[\\\"id\\\"].astype(int)\\n\\n    ## Predict BREAK - stop\";\n",
       "                var nbb_cells = Jupyter.notebook.get_cells();\n",
       "                for (var i = 0; i < nbb_cells.length; ++i) {\n",
       "                    if (nbb_cells[i].input_prompt_number == nbb_cell_id) {\n",
       "                        if (nbb_cells[i].get_text() == nbb_unformatted_code) {\n",
       "                             nbb_cells[i].set_text(nbb_formatted_code);\n",
       "                        }\n",
       "                        break;\n",
       "                    }\n",
       "                }\n",
       "            }, 500);\n",
       "            "
      ],
      "text/plain": [
       "<IPython.core.display.Javascript object>"
      ]
     },
     "metadata": {},
     "output_type": "display_data"
    }
   ],
   "source": [
    "predict_final = True\n",
    "if predict_final:\n",
    "    df_tmp = pd.read_csv(\"interim_data/df_completed_1_2_3_with_mv.csv\")\n",
    "    test_set_id_col = df_tmp[np.isnan(df_tmp[\"OFFER_STATUS\"])][\"TEST_SET_ID\"]\n",
    "\n",
    "    ## Predict BREAK - start\n",
    "    real_test = df[np.isnan(df[\"OFFER_STATUS\"])]\n",
    "    real_test[\"prediction\"] = model2.predict(real_test)\n",
    "    real_test = pd.concat([real_test[\"prediction\"], test_set_id_col], axis=1)\n",
    "    real_test = real_test.rename(columns={\"TEST_SET_ID\": \"id\"})\n",
    "    real_test[\"id\"] = real_test[\"id\"].astype(int)\n",
    "\n",
    "    ## Predict BREAK - stop"
   ]
  },
  {
   "cell_type": "code",
   "execution_count": 124,
   "id": "f44d82c6",
   "metadata": {},
   "outputs": [
    {
     "data": {
      "text/plain": [
       "1.0    1880\n",
       "0.0     696\n",
       "Name: prediction, dtype: int64"
      ]
     },
     "execution_count": 124,
     "metadata": {},
     "output_type": "execute_result"
    },
    {
     "data": {
      "application/javascript": [
       "\n",
       "            setTimeout(function() {\n",
       "                var nbb_cell_id = 124;\n",
       "                var nbb_unformatted_code = \"real_test[\\\"prediction\\\"].value_counts()\";\n",
       "                var nbb_formatted_code = \"real_test[\\\"prediction\\\"].value_counts()\";\n",
       "                var nbb_cells = Jupyter.notebook.get_cells();\n",
       "                for (var i = 0; i < nbb_cells.length; ++i) {\n",
       "                    if (nbb_cells[i].input_prompt_number == nbb_cell_id) {\n",
       "                        if (nbb_cells[i].get_text() == nbb_unformatted_code) {\n",
       "                             nbb_cells[i].set_text(nbb_formatted_code);\n",
       "                        }\n",
       "                        break;\n",
       "                    }\n",
       "                }\n",
       "            }, 500);\n",
       "            "
      ],
      "text/plain": [
       "<IPython.core.display.Javascript object>"
      ]
     },
     "metadata": {},
     "output_type": "display_data"
    }
   ],
   "source": [
    "real_test[\"prediction\"].value_counts()"
   ]
  },
  {
   "cell_type": "code",
   "execution_count": 125,
   "id": "562ef597",
   "metadata": {},
   "outputs": [
    {
     "data": {
      "application/javascript": [
       "\n",
       "            setTimeout(function() {\n",
       "                var nbb_cell_id = 125;\n",
       "                var nbb_unformatted_code = \"real_test.to_csv(\\\"predictions_versed_chimpanzee_3.csv\\\", header=True, index=False)\";\n",
       "                var nbb_formatted_code = \"real_test.to_csv(\\\"predictions_versed_chimpanzee_3.csv\\\", header=True, index=False)\";\n",
       "                var nbb_cells = Jupyter.notebook.get_cells();\n",
       "                for (var i = 0; i < nbb_cells.length; ++i) {\n",
       "                    if (nbb_cells[i].input_prompt_number == nbb_cell_id) {\n",
       "                        if (nbb_cells[i].get_text() == nbb_unformatted_code) {\n",
       "                             nbb_cells[i].set_text(nbb_formatted_code);\n",
       "                        }\n",
       "                        break;\n",
       "                    }\n",
       "                }\n",
       "            }, 500);\n",
       "            "
      ],
      "text/plain": [
       "<IPython.core.display.Javascript object>"
      ]
     },
     "metadata": {},
     "output_type": "display_data"
    }
   ],
   "source": [
    "real_test.to_csv(\"predictions_versed_chimpanzee_3.csv\", header=True, index=False)"
   ]
  },
  {
   "cell_type": "code",
   "execution_count": 106,
   "id": "2c4da71c",
   "metadata": {},
   "outputs": [
    {
     "data": {
      "application/javascript": [
       "\n",
       "            setTimeout(function() {\n",
       "                var nbb_cell_id = 106;\n",
       "                var nbb_unformatted_code = \"from sklearn.datasets import make_classification\\nfrom sklearn.model_selection import train_test_split\\nfrom sklearn.metrics import accuracy_score\\nfrom autosklearn.classification import AutoSklearnClassifier\\n\\ndf = df[~np.isnan(df[\\\"OFFER_STATUS\\\"])]\\n# Col Selection & Conversion\\nX, y = df.drop(\\\"OFFER_STATUS\\\", axis=1), df[\\\"OFFER_STATUS\\\"]\\n\\n# Split\\nX_train, X_test, y_train, y_test = train_test_split(\\n    X, y, stratify=y, test_size=0.33, random_state=42\\n)\";\n",
       "                var nbb_formatted_code = \"from sklearn.datasets import make_classification\\nfrom sklearn.model_selection import train_test_split\\nfrom sklearn.metrics import accuracy_score\\nfrom autosklearn.classification import AutoSklearnClassifier\\n\\ndf = df[~np.isnan(df[\\\"OFFER_STATUS\\\"])]\\n# Col Selection & Conversion\\nX, y = df.drop(\\\"OFFER_STATUS\\\", axis=1), df[\\\"OFFER_STATUS\\\"]\\n\\n# Split\\nX_train, X_test, y_train, y_test = train_test_split(\\n    X, y, stratify=y, test_size=0.33, random_state=42\\n)\";\n",
       "                var nbb_cells = Jupyter.notebook.get_cells();\n",
       "                for (var i = 0; i < nbb_cells.length; ++i) {\n",
       "                    if (nbb_cells[i].input_prompt_number == nbb_cell_id) {\n",
       "                        if (nbb_cells[i].get_text() == nbb_unformatted_code) {\n",
       "                             nbb_cells[i].set_text(nbb_formatted_code);\n",
       "                        }\n",
       "                        break;\n",
       "                    }\n",
       "                }\n",
       "            }, 500);\n",
       "            "
      ],
      "text/plain": [
       "<IPython.core.display.Javascript object>"
      ]
     },
     "metadata": {},
     "output_type": "display_data"
    }
   ],
   "source": [
    "from sklearn.datasets import make_classification\n",
    "from sklearn.model_selection import train_test_split\n",
    "from sklearn.metrics import accuracy_score\n",
    "from autosklearn.classification import AutoSklearnClassifier\n",
    "\n",
    "df = df[~np.isnan(df[\"OFFER_STATUS\"])]\n",
    "# Col Selection & Conversion\n",
    "X, y = df.drop(\"OFFER_STATUS\", axis=1), df[\"OFFER_STATUS\"]\n",
    "\n",
    "# Split\n",
    "X_train, X_test, y_train, y_test = train_test_split(\n",
    "    X, y, stratify=y, test_size=0.33, random_state=42\n",
    ")"
   ]
  },
  {
   "cell_type": "code",
   "execution_count": 108,
   "id": "d12fe0f6",
   "metadata": {},
   "outputs": [
    {
     "name": "stderr",
     "output_type": "stream",
     "text": [
      "/home/iceking/Desktop/TUM Lecture Docs/3. Business Analytics and Machine Learning (IN2028)/Analytics Cup/Project Files/venv/lib/python3.8/site-packages/distributed/node.py:160: UserWarning: Port 8787 is already in use.\n",
      "Perhaps you already have a cluster running?\n",
      "Hosting the HTTP server on port 37509 instead\n",
      "  warnings.warn(\n",
      "/home/iceking/Desktop/TUM Lecture Docs/3. Business Analytics and Machine Learning (IN2028)/Analytics Cup/Project Files/venv/lib/python3.8/site-packages/autosklearn/metalearning/metalearning/meta_base.py:68: FutureWarning: The frame.append method is deprecated and will be removed from pandas in a future version. Use pandas.concat instead.\n",
      "  self.metafeatures = self.metafeatures.append(metafeatures)\n",
      "/home/iceking/Desktop/TUM Lecture Docs/3. Business Analytics and Machine Learning (IN2028)/Analytics Cup/Project Files/venv/lib/python3.8/site-packages/autosklearn/metalearning/metalearning/meta_base.py:72: FutureWarning: The frame.append method is deprecated and will be removed from pandas in a future version. Use pandas.concat instead.\n",
      "  self.algorithm_runs[metric].append(runs)\n"
     ]
    },
    {
     "name": "stdout",
     "output_type": "stream",
     "text": [
      "[(0.42, SimpleClassificationPipeline({'balancing:strategy': 'none', 'classifier:__choice__': 'sgd', 'data_preprocessor:__choice__': 'feature_type', 'feature_preprocessor:__choice__': 'random_trees_embedding', 'classifier:sgd:alpha': 6.661096438196758e-05, 'classifier:sgd:average': 'False', 'classifier:sgd:fit_intercept': 'True', 'classifier:sgd:learning_rate': 'invscaling', 'classifier:sgd:loss': 'perceptron', 'classifier:sgd:penalty': 'l2', 'classifier:sgd:tol': 2.0428856355579325e-05, 'data_preprocessor:feature_type:categorical_transformer:categorical_encoding:__choice__': 'encoding', 'data_preprocessor:feature_type:categorical_transformer:category_coalescence:__choice__': 'no_coalescense', 'data_preprocessor:feature_type:numerical_transformer:imputation:strategy': 'mean', 'data_preprocessor:feature_type:numerical_transformer:rescaling:__choice__': 'robust_scaler', 'feature_preprocessor:random_trees_embedding:bootstrap': 'False', 'feature_preprocessor:random_trees_embedding:max_depth': 4, 'feature_preprocessor:random_trees_embedding:max_leaf_nodes': 'None', 'feature_preprocessor:random_trees_embedding:min_samples_leaf': 13, 'feature_preprocessor:random_trees_embedding:min_samples_split': 9, 'feature_preprocessor:random_trees_embedding:min_weight_fraction_leaf': 1.0, 'feature_preprocessor:random_trees_embedding:n_estimators': 42, 'classifier:sgd:eta0': 2.4093312507711063e-07, 'classifier:sgd:power_t': 0.11149494471481572, 'data_preprocessor:feature_type:numerical_transformer:rescaling:robust_scaler:q_max': 0.774975927190616, 'data_preprocessor:feature_type:numerical_transformer:rescaling:robust_scaler:q_min': 0.2837382798704945},\n",
      "dataset_properties={\n",
      "  'task': 1,\n",
      "  'sparse': False,\n",
      "  'multilabel': False,\n",
      "  'multiclass': False,\n",
      "  'target_type': 'classification',\n",
      "  'signed': False})), (0.16, SimpleClassificationPipeline({'balancing:strategy': 'weighting', 'classifier:__choice__': 'sgd', 'data_preprocessor:__choice__': 'feature_type', 'feature_preprocessor:__choice__': 'random_trees_embedding', 'classifier:sgd:alpha': 6.661096438196758e-05, 'classifier:sgd:average': 'False', 'classifier:sgd:fit_intercept': 'True', 'classifier:sgd:learning_rate': 'invscaling', 'classifier:sgd:loss': 'perceptron', 'classifier:sgd:penalty': 'l1', 'classifier:sgd:tol': 2.93454342610001e-05, 'data_preprocessor:feature_type:categorical_transformer:categorical_encoding:__choice__': 'encoding', 'data_preprocessor:feature_type:categorical_transformer:category_coalescence:__choice__': 'minority_coalescer', 'data_preprocessor:feature_type:numerical_transformer:imputation:strategy': 'median', 'data_preprocessor:feature_type:numerical_transformer:rescaling:__choice__': 'none', 'feature_preprocessor:random_trees_embedding:bootstrap': 'False', 'feature_preprocessor:random_trees_embedding:max_depth': 4, 'feature_preprocessor:random_trees_embedding:max_leaf_nodes': 'None', 'feature_preprocessor:random_trees_embedding:min_samples_leaf': 14, 'feature_preprocessor:random_trees_embedding:min_samples_split': 9, 'feature_preprocessor:random_trees_embedding:min_weight_fraction_leaf': 1.0, 'feature_preprocessor:random_trees_embedding:n_estimators': 44, 'classifier:sgd:eta0': 2.4093312507711063e-07, 'classifier:sgd:power_t': 0.11149494471481572, 'data_preprocessor:feature_type:categorical_transformer:category_coalescence:minority_coalescer:minimum_fraction': 0.010000000000000004},\n",
      "dataset_properties={\n",
      "  'task': 1,\n",
      "  'sparse': False,\n",
      "  'multilabel': False,\n",
      "  'multiclass': False,\n",
      "  'target_type': 'classification',\n",
      "  'signed': False})), (0.14, SimpleClassificationPipeline({'balancing:strategy': 'weighting', 'classifier:__choice__': 'sgd', 'data_preprocessor:__choice__': 'feature_type', 'feature_preprocessor:__choice__': 'pca', 'classifier:sgd:alpha': 1.4979095656927829e-05, 'classifier:sgd:average': 'False', 'classifier:sgd:fit_intercept': 'True', 'classifier:sgd:learning_rate': 'invscaling', 'classifier:sgd:loss': 'perceptron', 'classifier:sgd:penalty': 'elasticnet', 'classifier:sgd:tol': 0.0016836417906018883, 'data_preprocessor:feature_type:categorical_transformer:categorical_encoding:__choice__': 'one_hot_encoding', 'data_preprocessor:feature_type:categorical_transformer:category_coalescence:__choice__': 'no_coalescense', 'data_preprocessor:feature_type:numerical_transformer:imputation:strategy': 'median', 'data_preprocessor:feature_type:numerical_transformer:rescaling:__choice__': 'normalize', 'feature_preprocessor:pca:keep_variance': 0.624429241036926, 'feature_preprocessor:pca:whiten': 'False', 'classifier:sgd:eta0': 7.60416545351136e-05, 'classifier:sgd:l1_ratio': 9.83945153758652e-07, 'classifier:sgd:power_t': 0.32951525199294085},\n",
      "dataset_properties={\n",
      "  'task': 1,\n",
      "  'sparse': False,\n",
      "  'multilabel': False,\n",
      "  'multiclass': False,\n",
      "  'target_type': 'classification',\n",
      "  'signed': False})), (0.1, SimpleClassificationPipeline({'balancing:strategy': 'weighting', 'classifier:__choice__': 'sgd', 'data_preprocessor:__choice__': 'feature_type', 'feature_preprocessor:__choice__': 'random_trees_embedding', 'classifier:sgd:alpha': 2.1809005268584655e-06, 'classifier:sgd:average': 'True', 'classifier:sgd:fit_intercept': 'True', 'classifier:sgd:learning_rate': 'invscaling', 'classifier:sgd:loss': 'perceptron', 'classifier:sgd:penalty': 'elasticnet', 'classifier:sgd:tol': 3.488036180138416e-05, 'data_preprocessor:feature_type:categorical_transformer:categorical_encoding:__choice__': 'no_encoding', 'data_preprocessor:feature_type:categorical_transformer:category_coalescence:__choice__': 'no_coalescense', 'data_preprocessor:feature_type:numerical_transformer:imputation:strategy': 'mean', 'data_preprocessor:feature_type:numerical_transformer:rescaling:__choice__': 'robust_scaler', 'feature_preprocessor:random_trees_embedding:bootstrap': 'False', 'feature_preprocessor:random_trees_embedding:max_depth': 7, 'feature_preprocessor:random_trees_embedding:max_leaf_nodes': 'None', 'feature_preprocessor:random_trees_embedding:min_samples_leaf': 20, 'feature_preprocessor:random_trees_embedding:min_samples_split': 2, 'feature_preprocessor:random_trees_embedding:min_weight_fraction_leaf': 1.0, 'feature_preprocessor:random_trees_embedding:n_estimators': 34, 'classifier:sgd:eta0': 9.873686250483311e-05, 'classifier:sgd:l1_ratio': 0.27184713493287566, 'classifier:sgd:power_t': 0.5, 'data_preprocessor:feature_type:numerical_transformer:rescaling:robust_scaler:q_max': 0.7654925544624308, 'data_preprocessor:feature_type:numerical_transformer:rescaling:robust_scaler:q_min': 0.25},\n",
      "dataset_properties={\n",
      "  'task': 1,\n",
      "  'sparse': False,\n",
      "  'multilabel': False,\n",
      "  'multiclass': False,\n",
      "  'target_type': 'classification',\n",
      "  'signed': False})), (0.08, SimpleClassificationPipeline({'balancing:strategy': 'weighting', 'classifier:__choice__': 'sgd', 'data_preprocessor:__choice__': 'feature_type', 'feature_preprocessor:__choice__': 'random_trees_embedding', 'classifier:sgd:alpha': 4.5161446508013705e-07, 'classifier:sgd:average': 'True', 'classifier:sgd:fit_intercept': 'True', 'classifier:sgd:learning_rate': 'constant', 'classifier:sgd:loss': 'perceptron', 'classifier:sgd:penalty': 'l2', 'classifier:sgd:tol': 7.987804374174598e-05, 'data_preprocessor:feature_type:categorical_transformer:categorical_encoding:__choice__': 'no_encoding', 'data_preprocessor:feature_type:categorical_transformer:category_coalescence:__choice__': 'no_coalescense', 'data_preprocessor:feature_type:numerical_transformer:imputation:strategy': 'median', 'data_preprocessor:feature_type:numerical_transformer:rescaling:__choice__': 'robust_scaler', 'feature_preprocessor:random_trees_embedding:bootstrap': 'False', 'feature_preprocessor:random_trees_embedding:max_depth': 8, 'feature_preprocessor:random_trees_embedding:max_leaf_nodes': 'None', 'feature_preprocessor:random_trees_embedding:min_samples_leaf': 2, 'feature_preprocessor:random_trees_embedding:min_samples_split': 4, 'feature_preprocessor:random_trees_embedding:min_weight_fraction_leaf': 1.0, 'feature_preprocessor:random_trees_embedding:n_estimators': 35, 'classifier:sgd:eta0': 0.00022073956577976358, 'data_preprocessor:feature_type:numerical_transformer:rescaling:robust_scaler:q_max': 0.8161052210514892, 'data_preprocessor:feature_type:numerical_transformer:rescaling:robust_scaler:q_min': 0.09318259443204761},\n",
      "dataset_properties={\n",
      "  'task': 1,\n",
      "  'sparse': False,\n",
      "  'multilabel': False,\n",
      "  'multiclass': False,\n",
      "  'target_type': 'classification',\n",
      "  'signed': False})), (0.04, SimpleClassificationPipeline({'balancing:strategy': 'weighting', 'classifier:__choice__': 'sgd', 'data_preprocessor:__choice__': 'feature_type', 'feature_preprocessor:__choice__': 'random_trees_embedding', 'classifier:sgd:alpha': 9.377336983543013e-07, 'classifier:sgd:average': 'True', 'classifier:sgd:fit_intercept': 'True', 'classifier:sgd:learning_rate': 'constant', 'classifier:sgd:loss': 'perceptron', 'classifier:sgd:penalty': 'l1', 'classifier:sgd:tol': 3.488036180138416e-05, 'data_preprocessor:feature_type:categorical_transformer:categorical_encoding:__choice__': 'no_encoding', 'data_preprocessor:feature_type:categorical_transformer:category_coalescence:__choice__': 'no_coalescense', 'data_preprocessor:feature_type:numerical_transformer:imputation:strategy': 'median', 'data_preprocessor:feature_type:numerical_transformer:rescaling:__choice__': 'robust_scaler', 'feature_preprocessor:random_trees_embedding:bootstrap': 'False', 'feature_preprocessor:random_trees_embedding:max_depth': 8, 'feature_preprocessor:random_trees_embedding:max_leaf_nodes': 'None', 'feature_preprocessor:random_trees_embedding:min_samples_leaf': 2, 'feature_preprocessor:random_trees_embedding:min_samples_split': 2, 'feature_preprocessor:random_trees_embedding:min_weight_fraction_leaf': 1.0, 'feature_preprocessor:random_trees_embedding:n_estimators': 35, 'classifier:sgd:eta0': 0.0002127852190735759, 'data_preprocessor:feature_type:numerical_transformer:rescaling:robust_scaler:q_max': 0.7790501427017991, 'data_preprocessor:feature_type:numerical_transformer:rescaling:robust_scaler:q_min': 0.09318259443204761},\n",
      "dataset_properties={\n",
      "  'task': 1,\n",
      "  'sparse': False,\n",
      "  'multilabel': False,\n",
      "  'multiclass': False,\n",
      "  'target_type': 'classification',\n",
      "  'signed': False})), (0.04, SimpleClassificationPipeline({'balancing:strategy': 'weighting', 'classifier:__choice__': 'sgd', 'data_preprocessor:__choice__': 'feature_type', 'feature_preprocessor:__choice__': 'random_trees_embedding', 'classifier:sgd:alpha': 1.048414062076425e-06, 'classifier:sgd:average': 'False', 'classifier:sgd:fit_intercept': 'True', 'classifier:sgd:learning_rate': 'constant', 'classifier:sgd:loss': 'perceptron', 'classifier:sgd:penalty': 'l2', 'classifier:sgd:tol': 1.9255924939477536e-05, 'data_preprocessor:feature_type:categorical_transformer:categorical_encoding:__choice__': 'one_hot_encoding', 'data_preprocessor:feature_type:categorical_transformer:category_coalescence:__choice__': 'minority_coalescer', 'data_preprocessor:feature_type:numerical_transformer:imputation:strategy': 'most_frequent', 'data_preprocessor:feature_type:numerical_transformer:rescaling:__choice__': 'robust_scaler', 'feature_preprocessor:random_trees_embedding:bootstrap': 'False', 'feature_preprocessor:random_trees_embedding:max_depth': 6, 'feature_preprocessor:random_trees_embedding:max_leaf_nodes': 'None', 'feature_preprocessor:random_trees_embedding:min_samples_leaf': 19, 'feature_preprocessor:random_trees_embedding:min_samples_split': 9, 'feature_preprocessor:random_trees_embedding:min_weight_fraction_leaf': 1.0, 'feature_preprocessor:random_trees_embedding:n_estimators': 42, 'classifier:sgd:eta0': 9.262516026859778e-07, 'data_preprocessor:feature_type:categorical_transformer:category_coalescence:minority_coalescer:minimum_fraction': 0.011043377503329066, 'data_preprocessor:feature_type:numerical_transformer:rescaling:robust_scaler:q_max': 0.75, 'data_preprocessor:feature_type:numerical_transformer:rescaling:robust_scaler:q_min': 0.25},\n",
      "dataset_properties={\n",
      "  'task': 1,\n",
      "  'sparse': False,\n",
      "  'multilabel': False,\n",
      "  'multiclass': False,\n",
      "  'target_type': 'classification',\n",
      "  'signed': False})), (0.02, SimpleClassificationPipeline({'balancing:strategy': 'weighting', 'classifier:__choice__': 'sgd', 'data_preprocessor:__choice__': 'feature_type', 'feature_preprocessor:__choice__': 'random_trees_embedding', 'classifier:sgd:alpha': 0.029904302079856213, 'classifier:sgd:average': 'False', 'classifier:sgd:fit_intercept': 'True', 'classifier:sgd:learning_rate': 'invscaling', 'classifier:sgd:loss': 'squared_hinge', 'classifier:sgd:penalty': 'l2', 'classifier:sgd:tol': 4.82874036760768e-05, 'data_preprocessor:feature_type:categorical_transformer:categorical_encoding:__choice__': 'one_hot_encoding', 'data_preprocessor:feature_type:categorical_transformer:category_coalescence:__choice__': 'no_coalescense', 'data_preprocessor:feature_type:numerical_transformer:imputation:strategy': 'median', 'data_preprocessor:feature_type:numerical_transformer:rescaling:__choice__': 'robust_scaler', 'feature_preprocessor:random_trees_embedding:bootstrap': 'True', 'feature_preprocessor:random_trees_embedding:max_depth': 9, 'feature_preprocessor:random_trees_embedding:max_leaf_nodes': 'None', 'feature_preprocessor:random_trees_embedding:min_samples_leaf': 5, 'feature_preprocessor:random_trees_embedding:min_samples_split': 11, 'feature_preprocessor:random_trees_embedding:min_weight_fraction_leaf': 1.0, 'feature_preprocessor:random_trees_embedding:n_estimators': 85, 'classifier:sgd:eta0': 0.00442105301379356, 'classifier:sgd:power_t': 0.5, 'data_preprocessor:feature_type:numerical_transformer:rescaling:robust_scaler:q_max': 0.7444261563880205, 'data_preprocessor:feature_type:numerical_transformer:rescaling:robust_scaler:q_min': 0.25},\n",
      "dataset_properties={\n",
      "  'task': 1,\n",
      "  'sparse': False,\n",
      "  'multilabel': False,\n",
      "  'multiclass': False,\n",
      "  'target_type': 'classification',\n",
      "  'signed': False}))]\n",
      "Elapsed Time: 1204.6925537586212\n",
      "Best Val Score: 0.709626\n",
      "Final BAC Score: 0.728\n"
     ]
    },
    {
     "name": "stdout",
     "output_type": "stream",
     "text": [
      "================================\n"
     ]
    },
    {
     "data": {
      "application/javascript": [
       "\n",
       "            setTimeout(function() {\n",
       "                var nbb_cell_id = 108;\n",
       "                var nbb_unformatted_code = \"model2 = AutoSklearnClassifier(\\n    time_left_for_this_task=20 * 60,\\n    # time_left_for_this_task=60,\\n    seed=42,\\n    per_run_time_limit=30,\\n    n_jobs=-1,\\n    metric=autosklearn.metrics.balanced_accuracy,\\n    resampling_strategy=\\\"cv\\\",\\n    resampling_strategy_arguments={\\\"cv\\\": {\\\"folds\\\": 10}, \\\"shuffle\\\": True},\\n    # resampling_strategy_arguments={\\\"cv\\\": {\\\"folds\\\": 10}, \\\"shuffle\\\": True},\\n    #resampling_strategy_arguments={\\\"train_size\\\": 0.67, \\\"shuffle\\\": True},\\n    # include={\\\"svm\\\"}, ## TODO: Consider including only relevant algorithms or excluding irrelevant ones\\n)\\n\\nstart = time.time()\\nmodel2.fit(X_train, y_train)\\nend = time.time()\\ny_hat = model2.predict(X_test)\\n\\n# print(model2.sprint_statistics())\\n# print(model2.best_val_acc)\\nbest_val_score_here = float(model2.sprint_statistics().split(\\\"\\\\n\\\")[3][25:])\\nprint(model2.get_models_with_weights())\\n# model2.leaderboard()\\n\\n# Evaluate\\nval_acc = balanced_accuracy_score(y_true=y_test, y_pred=y_hat)\\nprint(\\\"Elapsed Time:\\\", end - start)\\n# print(\\\"Dropped until:\\\", col)\\nprint(\\\"Best Val Score:\\\", best_val_score_here)\\nprint(\\\"Final BAC Score: %.3f\\\" % val_acc)\\n\\n# Pickle\\nif not ((\\\"best_val_acc\\\" in vars() or \\\"best_val_acc\\\" in globals())):\\n    best_val_acc = val_acc\\nfile_name = f\\\"model_pickles/model_{int(val_acc*10**3)}\\\" + str(\\n    datetime.datetime.now()\\n).replace(\\\" \\\", \\\"_\\\")\\nif val_acc >= best_val_acc:\\n    with open(file_name, \\\"wb\\\") as f:\\n        pickle.dump(model2, f)\\nelse:\\n    with open(file_name, \\\"wb\\\") as f:\\n        pickle.dump(model2, f)\\n\\nprint(\\\"=\\\" * 32)\";\n",
       "                var nbb_formatted_code = \"model2 = AutoSklearnClassifier(\\n    time_left_for_this_task=20 * 60,\\n    # time_left_for_this_task=60,\\n    seed=42,\\n    per_run_time_limit=30,\\n    n_jobs=-1,\\n    metric=autosklearn.metrics.balanced_accuracy,\\n    resampling_strategy=\\\"cv\\\",\\n    resampling_strategy_arguments={\\\"cv\\\": {\\\"folds\\\": 10}, \\\"shuffle\\\": True},\\n    # resampling_strategy_arguments={\\\"cv\\\": {\\\"folds\\\": 10}, \\\"shuffle\\\": True},\\n    # resampling_strategy_arguments={\\\"train_size\\\": 0.67, \\\"shuffle\\\": True},\\n    # include={\\\"svm\\\"}, ## TODO: Consider including only relevant algorithms or excluding irrelevant ones\\n)\\n\\nstart = time.time()\\nmodel2.fit(X_train, y_train)\\nend = time.time()\\ny_hat = model2.predict(X_test)\\n\\n# print(model2.sprint_statistics())\\n# print(model2.best_val_acc)\\nbest_val_score_here = float(model2.sprint_statistics().split(\\\"\\\\n\\\")[3][25:])\\nprint(model2.get_models_with_weights())\\n# model2.leaderboard()\\n\\n# Evaluate\\nval_acc = balanced_accuracy_score(y_true=y_test, y_pred=y_hat)\\nprint(\\\"Elapsed Time:\\\", end - start)\\n# print(\\\"Dropped until:\\\", col)\\nprint(\\\"Best Val Score:\\\", best_val_score_here)\\nprint(\\\"Final BAC Score: %.3f\\\" % val_acc)\\n\\n# Pickle\\nif not ((\\\"best_val_acc\\\" in vars() or \\\"best_val_acc\\\" in globals())):\\n    best_val_acc = val_acc\\nfile_name = f\\\"model_pickles/model_{int(val_acc*10**3)}\\\" + str(\\n    datetime.datetime.now()\\n).replace(\\\" \\\", \\\"_\\\")\\nif val_acc >= best_val_acc:\\n    with open(file_name, \\\"wb\\\") as f:\\n        pickle.dump(model2, f)\\nelse:\\n    with open(file_name, \\\"wb\\\") as f:\\n        pickle.dump(model2, f)\\n\\nprint(\\\"=\\\" * 32)\";\n",
       "                var nbb_cells = Jupyter.notebook.get_cells();\n",
       "                for (var i = 0; i < nbb_cells.length; ++i) {\n",
       "                    if (nbb_cells[i].input_prompt_number == nbb_cell_id) {\n",
       "                        if (nbb_cells[i].get_text() == nbb_unformatted_code) {\n",
       "                             nbb_cells[i].set_text(nbb_formatted_code);\n",
       "                        }\n",
       "                        break;\n",
       "                    }\n",
       "                }\n",
       "            }, 500);\n",
       "            "
      ],
      "text/plain": [
       "<IPython.core.display.Javascript object>"
      ]
     },
     "metadata": {},
     "output_type": "display_data"
    }
   ],
   "source": [
    "model2 = AutoSklearnClassifier(\n",
    "    time_left_for_this_task=20 * 60,\n",
    "    # time_left_for_this_task=60,\n",
    "    seed=42,\n",
    "    per_run_time_limit=30,\n",
    "    n_jobs=-1,\n",
    "    metric=autosklearn.metrics.balanced_accuracy,\n",
    "    resampling_strategy=\"cv\",\n",
    "    resampling_strategy_arguments={\"cv\": {\"folds\": 10}, \"shuffle\": True},\n",
    "    # resampling_strategy_arguments={\"cv\": {\"folds\": 10}, \"shuffle\": True},\n",
    "    # resampling_strategy_arguments={\"train_size\": 0.67, \"shuffle\": True},\n",
    "    # include={\"svm\"}, ## TODO: Consider including only relevant algorithms or excluding irrelevant ones\n",
    ")\n",
    "\n",
    "start = time.time()\n",
    "model2.fit(X_train, y_train)\n",
    "end = time.time()\n",
    "y_hat = model2.predict(X_test)\n",
    "\n",
    "# print(model2.sprint_statistics())\n",
    "# print(model2.best_val_acc)\n",
    "best_val_score_here = float(model2.sprint_statistics().split(\"\\n\")[3][25:])\n",
    "print(model2.get_models_with_weights())\n",
    "# model2.leaderboard()\n",
    "\n",
    "# Evaluate\n",
    "val_acc = balanced_accuracy_score(y_true=y_test, y_pred=y_hat)\n",
    "print(\"Elapsed Time:\", end - start)\n",
    "# print(\"Dropped until:\", col)\n",
    "print(\"Best Val Score:\", best_val_score_here)\n",
    "print(\"Final BAC Score: %.3f\" % val_acc)\n",
    "\n",
    "# Pickle\n",
    "if not ((\"best_val_acc\" in vars() or \"best_val_acc\" in globals())):\n",
    "    best_val_acc = val_acc\n",
    "file_name = f\"model_pickles/model_{int(val_acc*10**3)}\" + str(\n",
    "    datetime.datetime.now()\n",
    ").replace(\" \", \"_\")\n",
    "if val_acc >= best_val_acc:\n",
    "    with open(file_name, \"wb\") as f:\n",
    "        pickle.dump(model2, f)\n",
    "else:\n",
    "    with open(file_name, \"wb\") as f:\n",
    "        pickle.dump(model2, f)\n",
    "\n",
    "print(\"=\" * 32)"
   ]
  },
  {
   "cell_type": "code",
   "execution_count": null,
   "id": "cbf9f36c",
   "metadata": {},
   "outputs": [],
   "source": [
    "# Last\n",
    "Best Val Score: 0.720913\n",
    "Final BAC Score: 0.709"
   ]
  },
  {
   "cell_type": "code",
   "execution_count": null,
   "id": "99950092",
   "metadata": {},
   "outputs": [],
   "source": [
    "Best Val Score: 0.722002\n",
    "Final BAC Score: 0.713"
   ]
  },
  {
   "cell_type": "code",
   "execution_count": null,
   "id": "42b3f3e9",
   "metadata": {},
   "outputs": [],
   "source": [
    "\n",
    "Without less than features:\n",
    "Best Val Score: 0.723375\n",
    "Final BAC Score: 0.712"
   ]
  },
  {
   "cell_type": "code",
   "execution_count": null,
   "id": "10e9bb94",
   "metadata": {},
   "outputs": [],
   "source": [
    "With all less than features\n",
    "\n",
    "Best Val Score: 0.722037\n",
    "Final BAC Score: 0.718"
   ]
  },
  {
   "cell_type": "markdown",
   "id": "8a7ada4f",
   "metadata": {},
   "source": [
    "## trying svM"
   ]
  },
  {
   "cell_type": "code",
   "execution_count": 91,
   "id": "533e1272",
   "metadata": {},
   "outputs": [
    {
     "data": {
      "text/plain": [
       "13878    0.0\n",
       "5495     1.0\n",
       "23314    1.0\n",
       "5442     0.0\n",
       "1757     1.0\n",
       "        ... \n",
       "4828     1.0\n",
       "14194    1.0\n",
       "21599    1.0\n",
       "25380    1.0\n",
       "3923     1.0\n",
       "Name: OFFER_STATUS, Length: 18860, dtype: float64"
      ]
     },
     "execution_count": 91,
     "metadata": {},
     "output_type": "execute_result"
    },
    {
     "data": {
      "application/javascript": [
       "\n",
       "            setTimeout(function() {\n",
       "                var nbb_cell_id = 91;\n",
       "                var nbb_unformatted_code = \"y_train\";\n",
       "                var nbb_formatted_code = \"y_train\";\n",
       "                var nbb_cells = Jupyter.notebook.get_cells();\n",
       "                for (var i = 0; i < nbb_cells.length; ++i) {\n",
       "                    if (nbb_cells[i].input_prompt_number == nbb_cell_id) {\n",
       "                        if (nbb_cells[i].get_text() == nbb_unformatted_code) {\n",
       "                             nbb_cells[i].set_text(nbb_formatted_code);\n",
       "                        }\n",
       "                        break;\n",
       "                    }\n",
       "                }\n",
       "            }, 500);\n",
       "            "
      ],
      "text/plain": [
       "<IPython.core.display.Javascript object>"
      ]
     },
     "metadata": {},
     "output_type": "display_data"
    }
   ],
   "source": []
  },
  {
   "cell_type": "code",
   "execution_count": null,
   "id": "f97de1ae",
   "metadata": {},
   "outputs": [],
   "source": [
    "bla_col = type_separator(X_train, False)[\"numerical\"]\n",
    "\n",
    "# Import svm model\n",
    "from sklearn import svm\n",
    "\n",
    "del clf\n",
    "\n",
    "# Create a svm Classifier\n",
    "clf = svm.SVC(kernel=\"linear\")  # Linear Kernel\n",
    "\n",
    "# Train the model using the training sets\n",
    "clf.fit(\n",
    "    X_train[bla_col][2000:4000],\n",
    "    pd.DataFrame(y_train)[2000:4000][\"OFFER_STATUS\"],\n",
    ")\n",
    "\n",
    "\n",
    "# Predict the response for test dataset\n",
    "y_pred2 = clf.predict(X_test[bla_col])\n",
    "\n",
    "# Evaluate\n",
    "print(\n",
    "    \"SVM, Final BAC Score: %.3f\"\n",
    "    % balanced_accuracy_score(y_true=y_test, y_pred=y_pred2)\n",
    ")\n",
    "np.unique(y_pred2)"
   ]
  },
  {
   "cell_type": "code",
   "execution_count": 108,
   "id": "8500a831",
   "metadata": {},
   "outputs": [
    {
     "data": {
      "text/plain": [
       "False"
      ]
     },
     "execution_count": 108,
     "metadata": {},
     "output_type": "execute_result"
    },
    {
     "data": {
      "application/javascript": [
       "\n",
       "            setTimeout(function() {\n",
       "                var nbb_cell_id = 108;\n",
       "                var nbb_unformatted_code = \"np.all(y_pred2 == y_pred)\";\n",
       "                var nbb_formatted_code = \"np.all(y_pred2 == y_pred)\";\n",
       "                var nbb_cells = Jupyter.notebook.get_cells();\n",
       "                for (var i = 0; i < nbb_cells.length; ++i) {\n",
       "                    if (nbb_cells[i].input_prompt_number == nbb_cell_id) {\n",
       "                        if (nbb_cells[i].get_text() == nbb_unformatted_code) {\n",
       "                             nbb_cells[i].set_text(nbb_formatted_code);\n",
       "                        }\n",
       "                        break;\n",
       "                    }\n",
       "                }\n",
       "            }, 500);\n",
       "            "
      ],
      "text/plain": [
       "<IPython.core.display.Javascript object>"
      ]
     },
     "metadata": {},
     "output_type": "display_data"
    }
   ],
   "source": [
    "np.all(y_pred2 == y_pred)"
   ]
  },
  {
   "cell_type": "code",
   "execution_count": 26,
   "id": "0341887e",
   "metadata": {},
   "outputs": [
    {
     "data": {
      "text/plain": [
       "False    20785\n",
       "True      2790\n",
       "Name: REV_CURRENT_YEAR_LOG.1, dtype: int64"
      ]
     },
     "execution_count": 26,
     "metadata": {},
     "output_type": "execute_result"
    }
   ],
   "source": [
    "np.isnan(df[col1]).value_counts()"
   ]
  },
  {
   "cell_type": "code",
   "execution_count": 11,
   "id": "bba24367",
   "metadata": {},
   "outputs": [
    {
     "data": {
      "application/javascript": [
       "\n",
       "            setTimeout(function() {\n",
       "                var nbb_cell_id = 11;\n",
       "                var nbb_unformatted_code = \"y_pred = clf.predict(X_test[type_separator(X_test, False)[\\\"numerical\\\"][0:10]][:100])\";\n",
       "                var nbb_formatted_code = \"y_pred = clf.predict(X_test[type_separator(X_test, False)[\\\"numerical\\\"][0:10]][:100])\";\n",
       "                var nbb_cells = Jupyter.notebook.get_cells();\n",
       "                for (var i = 0; i < nbb_cells.length; ++i) {\n",
       "                    if (nbb_cells[i].input_prompt_number == nbb_cell_id) {\n",
       "                        if (nbb_cells[i].get_text() == nbb_unformatted_code) {\n",
       "                             nbb_cells[i].set_text(nbb_formatted_code);\n",
       "                        }\n",
       "                        break;\n",
       "                    }\n",
       "                }\n",
       "            }, 500);\n",
       "            "
      ],
      "text/plain": [
       "<IPython.core.display.Javascript object>"
      ]
     },
     "metadata": {},
     "output_type": "display_data"
    }
   ],
   "source": [
    "y_pred = clf.predict(X_test[type_separator(X_test, False)[\"numerical\"][0:10]][:100])"
   ]
  },
  {
   "cell_type": "markdown",
   "id": "887fd417",
   "metadata": {},
   "source": [
    "## something else"
   ]
  },
  {
   "cell_type": "code",
   "execution_count": null,
   "id": "7efbd833",
   "metadata": {},
   "outputs": [],
   "source": []
  },
  {
   "cell_type": "code",
   "execution_count": 41,
   "id": "00df5a8b",
   "metadata": {},
   "outputs": [
    {
     "name": "stdout",
     "output_type": "stream",
     "text": [
      "'REV_PERCENTAGE_INCREASE_>_REV_CURRENT_YEAR.2',\t#0.09610101580619812\n",
      "'TOTAL_COST_>_REV_CURRENT_YEAR.1',\t#0.06857892870903015\n",
      "'TECH_REDUCED_1_1HOTENC_F',\t#0.05166756734251976\n",
      "'PRICE_LIST_1HOTENC_CMT Installer',\t#0.04839813709259033\n",
      "'REV_PERCENTAGE_INCREASE_>_OFFER_PRICE',\t#0.03901156038045883\n",
      "'TOTAL_COST_>_REV_PERCENTAGE_INCREASE',\t#0.03355308994650841\n",
      "'TECH_REDUCED_1_1HOTENC_E_EPS_FP_BP',\t#0.029259905219078064\n",
      "'SO_CREATED_DATE_SCALED_>_SINCE_CREATION_YEAR',\t#0.028346635401248932\n",
      "'OWNERSHIP_REDUCED_1HOTENC_Governmental_IndividualPerson_Noinformation',\t#0.021181341260671616\n",
      "'SERVICE_COST_>_SERVICE_LIST_PRICE',\t#0.020826183259487152\n",
      "'OFFER_TYPE_BINENC_0',\t#0.01599985547363758\n",
      "'BUSINESS_TYPE_BINENC_2',\t#0.015860842540860176\n",
      "'OFFER_TYPE_BINENC_1',\t#0.01535513624548912\n",
      "'REV_CURRENT_YEAR_LOG.1',\t#0.014912281185388565\n",
      "'BUSINESS_TYPE_BINENC_3',\t#0.014111315831542015\n",
      "'BUSINESS_TYPE_BINENC_1',\t#0.014050492085516453\n",
      "'BUSINESS_TYPE_BINENC_0',\t#0.012201179750263691\n",
      "'REV_CURRENT_YEAR.1_>_SERVICE_COST',\t#0.011560462415218353\n",
      "'OWNERSHIP_NO_INFO_AS_NA_1HOTENC_Governmental',\t#0.011076554656028748\n",
      "'PRICE_LIST_1HOTENC_SFT Standard',\t#0.01103497389703989\n",
      "'HAS_COSTS_PRODUCT_D',\t#0.010728930123150349\n",
      "'SALES_LOCATION_BINENC_1',\t#0.010572257451713085\n",
      "'OFFER_TYPE_BINENC_4',\t#0.009773537516593933\n",
      "'TECH_BINENC_1',\t#0.009167510084807873\n",
      "'REV_PERCENTAGE_INCREASE_NO_OUTLIER',\t#0.008779934607446194\n",
      "'SALES_LOCATION_BINENC_2',\t#0.008750819601118565\n",
      "'REV_CURRENT_YEAR.1_>_MATERIAL_COST',\t#0.008442980237305164\n",
      "'REV_CURRENT_YEAR.1_>_SERVICE_LIST_PRICE',\t#0.00834011472761631\n",
      "'SERVICE_COST',\t#0.008272476494312286\n",
      "'SALES_LOCATION_BINENC_3',\t#0.008105024695396423\n",
      "'SALES_OFFICE_BINENC_3',\t#0.0079117426648736\n",
      "'OFFER_TYPE_BINENC_2',\t#0.007836295291781425\n",
      "'TOTAL_COST_>_REV_CURRENT_YEAR.2',\t#0.007833493873476982\n",
      "'SALES_OFFICE_BINENC_0',\t#0.007764273323118687\n",
      "'PRICE_LIST_1HOTENC_CMT End Customer',\t#0.007753641810268164\n",
      "'SO_CREATED_DATE_SCALED_>_TOTAL_COSTS_PRODUCT',\t#0.007648177444934845\n",
      "'TECH_REDUCED_1_1HOTENC_C',\t#0.007598263211548328\n",
      "'SO_CREATED_DATE_SCALED',\t#0.0075345952063798904\n",
      "'REV_CURRENT_YEAR_LOG.2',\t#0.007526252418756485\n",
      "'SALES_OFFICE_BINENC_4',\t#0.007231812458485365\n",
      "'TOTAL_COST_>_SERVICE_LIST_PRICE',\t#0.007083372678607702\n",
      "'REV_PERCENTAGE_INCREASE_>_SERVICE_LIST_PRICE',\t#0.007078474387526512\n",
      "'ADDITIONAL_COST_>_SERVICE_LIST_PRICE',\t#0.007031504064798355\n",
      "'HAS_ISIC',\t#0.006998696830123663\n",
      "'SALES_OFFICE_BINENC_1',\t#0.006958437152206898\n",
      "'HAS_COSTS_PRODUCT_B',\t#0.006779914256185293\n",
      "'SALES_LOCATION_BINENC_5',\t#0.006734827999025583\n",
      "'SALES_LOCATION_BINENC_4',\t#0.006601038388907909\n",
      "'IS_COUNTRY_CODE_CH',\t#0.006525534205138683\n",
      "'SALES_OFFICE_BINENC_5',\t#0.006479556206613779\n",
      "'REV_PERCENTAGE_INCREASE',\t#0.0064058853313326836\n",
      "'SALES_OFFICE_BINENC_2',\t#0.006327430717647076\n",
      "'SERVICE_LIST_PRICE',\t#0.006221694406121969\n",
      "'ADDITIONAL_COST_>_MATERIAL_COST',\t#0.0062048910185694695\n",
      "'REV_CURRENT_YEAR.1',\t#0.006147968117147684\n",
      "'SALES_LOCATION_BINENC_0',\t#0.0061261276714503765\n",
      "'MATERIAL_COST',\t#0.006124884821474552\n",
      "'ADDITIONAL_COST_>_REV_PERCENTAGE_INCREASE',\t#0.005901111755520105\n",
      "'REV_CURRENT_YEAR.1_>_OFFER_PRICE',\t#0.005844731815159321\n",
      "'CREATION_YEAR',\t#0.005803216248750687\n",
      "'TECH_BINENC_2',\t#0.0056681763380765915\n",
      "'HAS_COSTS_PRODUCT_C',\t#0.005654983688145876\n",
      "'HAS_END_CUSTOMER',\t#0.005633049178868532\n",
      "'TOTAL_COSTS_PRODUCT',\t#0.0054407124407589436\n",
      "'REV_CURRENT_YEAR.2',\t#0.005425830837339163\n",
      "'ADDITIONAL_COST_>_REV_CURRENT_YEAR.1',\t#0.005387913901358843\n",
      "'OWNERSHIP_NO_INFO_AS_NA_REDUCED_1HOTENC_Governmental_IndividualPerson',\t#0.00535170640796423\n",
      "'TOTAL_COST',\t#0.0053093028254806995\n",
      "'REV_PERCENTAGE_INCREASE_>_MATERIAL_COST',\t#0.0052901399321854115\n",
      "'HAS_COSTS_PRODUCT_A',\t#0.005265239626169205\n",
      "'ADDITIONAL_COST',\t#0.005256993230432272\n",
      "'OFFER_TYPE_BINENC_3',\t#0.005162983667105436\n",
      "'SO_CREATED_DATE_SCALED_>_REV_PERCENTAGE_INCREASE',\t#0.005108097568154335\n",
      "'REV_PERCENTAGE_INCREASE_NO_OUTLIER_>_SO_CREATED_DATE_SCALED',\t#0.005060083232820034\n",
      "'OWNERSHIP_NA_AS_NO_INFO_REDUCED_1HOTENC_Governmental_IndividualPerson_Noinformation',\t#0.004942663479596376\n",
      "'CURRENCY_BINENC_2',\t#0.004857788793742657\n",
      "'OFFER_PRICE',\t#0.004834827966988087\n",
      "'ADDITIONAL_COST_>_REV_CURRENT_YEAR.2',\t#0.004588569980114698\n",
      "'SERVICE_COST_>_MATERIAL_COST',\t#0.004372822120785713\n",
      "'HAS_COSTS_PRODUCT_E',\t#0.004227007739245892\n",
      "'CURRENCY_BINENC_1',\t#0.004159369505941868\n",
      "'ADDITIONAL_COST_>_SERVICE_COST',\t#0.004095220938324928\n",
      "'IS_NA_CURRENCY',\t#0.003751371055841446\n",
      "'TECH_REDUCED_1_1HOTENC_S',\t#0.003720833919942379\n",
      "'REV_PERCENTAGE_INCREASE_>_SERVICE_COST',\t#0.003644987242296338\n",
      "'OWNERSHIP_BINENC_1',\t#0.0031196887139230967\n",
      "'SINCE_CREATION_YEAR_LOG',\t#0.0024250734131783247\n",
      "'REV_CURRENT_YEAR.2_>_SERVICE_COST',\t#0.0022056959569454193\n",
      "'TOTAL_COST_>_CREATION_YEAR',\t#0.0\n",
      "'SINCE_CREATION_YEAR',\t#0.0\n",
      "'SERVICE_LIST_PRICE_LOG',\t#0.0\n",
      "'SERVICE_COST_LOG',\t#0.0\n",
      "'REV_PERCENTAGE_INCREASE_>_REV_CURRENT_YEAR.1',\t#0.0\n",
      "'REV_PERCENTAGE_INCREASE_>_CREATION_YEAR',\t#0.0\n",
      "'PRICE_LIST_1HOTENC_Tarif public',\t#0.0\n",
      "'OWNERSHIP_REDUCED_1HOTENC_Privately Owned/Publicly Traded',\t#0.0\n",
      "'OWNERSHIP_BINENC_2',\t#0.0\n",
      "'OFFER_PRICE_LOG',\t#0.0\n",
      "'MATERIAL_COST_LOG',\t#0.0\n",
      "'IS_NA_REV_PERCENTAGE_INCREASE',\t#0.0\n",
      "'IS_NA_OWNERSHIP_NO_INFO_AS_NA',\t#0.0\n",
      "'CREATION_YEAR_LOG',\t#0.0\n",
      "'CREATION_YEAR_>_SERVICE_COST',\t#0.0\n",
      "'ADDITIONAL_COST_>_CREATION_YEAR',\t#0.0\n"
     ]
    },
    {
     "data": {
      "application/javascript": [
       "\n",
       "            setTimeout(function() {\n",
       "                var nbb_cell_id = 41;\n",
       "                var nbb_unformatted_code = \"a = list(zip(list(model.feature_importances_), list(aa.columns)))\\n\\nfor item in sorted(a)[::-1]:\\n    print(f\\\"'{item[1]}',\\\\t#{item[0]}\\\")\";\n",
       "                var nbb_formatted_code = \"a = list(zip(list(model.feature_importances_), list(aa.columns)))\\n\\nfor item in sorted(a)[::-1]:\\n    print(f\\\"'{item[1]}',\\\\t#{item[0]}\\\")\";\n",
       "                var nbb_cells = Jupyter.notebook.get_cells();\n",
       "                for (var i = 0; i < nbb_cells.length; ++i) {\n",
       "                    if (nbb_cells[i].input_prompt_number == nbb_cell_id) {\n",
       "                        if (nbb_cells[i].get_text() == nbb_unformatted_code) {\n",
       "                             nbb_cells[i].set_text(nbb_formatted_code);\n",
       "                        }\n",
       "                        break;\n",
       "                    }\n",
       "                }\n",
       "            }, 500);\n",
       "            "
      ],
      "text/plain": [
       "<IPython.core.display.Javascript object>"
      ]
     },
     "metadata": {},
     "output_type": "display_data"
    }
   ],
   "source": []
  },
  {
   "cell_type": "code",
   "execution_count": 23,
   "id": "768b3c22",
   "metadata": {},
   "outputs": [
    {
     "data": {
      "text/plain": [
       "array([0.00483483, 0.00622169, 0.00612488, 0.00827248, 0.00614797,\n",
       "       0.00542583, 0.00580322, 0.00563305, 0.0069987 , 0.00652553,\n",
       "       0.00526524, 0.00677991, 0.00565498, 0.01072893, 0.00422701,\n",
       "       0.00544071, 0.        , 0.00640589, 0.0075346 , 0.        ,\n",
       "       0.        , 0.        , 0.        , 0.01491228, 0.00752625,\n",
       "       0.        , 0.00242507, 0.00877993, 0.        , 0.00375137,\n",
       "       0.        , 0.00525699, 0.0053093 , 0.00775364, 0.04839814,\n",
       "       0.01103497, 0.        , 0.00916751, 0.00566818, 0.01599986,\n",
       "       0.01535514, 0.0078363 , 0.00516298, 0.00977354, 0.01220118,\n",
       "       0.01405049, 0.01586084, 0.01411132, 0.00612613, 0.01057226,\n",
       "       0.00875082, 0.00810502, 0.00660104, 0.00673483, 0.00776427,\n",
       "       0.00695844, 0.00632743, 0.00791174, 0.00723181, 0.00647956,\n",
       "       0.00311969, 0.        , 0.00415937, 0.00485779, 0.01107655,\n",
       "       0.00759826, 0.02925991, 0.05166757, 0.00372083, 0.00494266,\n",
       "       0.00535171, 0.02118134, 0.        , 0.00584473, 0.03901156,\n",
       "       0.02082618, 0.00834011, 0.00707847, 0.0070315 , 0.00708337,\n",
       "       0.00437282, 0.00844298, 0.00529014, 0.00620489, 0.01156046,\n",
       "       0.0022057 , 0.        , 0.00364499, 0.00409522, 0.        ,\n",
       "       0.00538791, 0.06857893, 0.09610102, 0.00458857, 0.00783349,\n",
       "       0.        , 0.        , 0.        , 0.00764818, 0.02834664,\n",
       "       0.0051081 , 0.00590111, 0.03355309, 0.00506008], dtype=float32)"
      ]
     },
     "execution_count": 23,
     "metadata": {},
     "output_type": "execute_result"
    },
    {
     "data": {
      "application/javascript": [
       "\n",
       "            setTimeout(function() {\n",
       "                var nbb_cell_id = 23;\n",
       "                var nbb_unformatted_code = \"model.feature_importances_\";\n",
       "                var nbb_formatted_code = \"model.feature_importances_\";\n",
       "                var nbb_cells = Jupyter.notebook.get_cells();\n",
       "                for (var i = 0; i < nbb_cells.length; ++i) {\n",
       "                    if (nbb_cells[i].input_prompt_number == nbb_cell_id) {\n",
       "                        if (nbb_cells[i].get_text() == nbb_unformatted_code) {\n",
       "                             nbb_cells[i].set_text(nbb_formatted_code);\n",
       "                        }\n",
       "                        break;\n",
       "                    }\n",
       "                }\n",
       "            }, 500);\n",
       "            "
      ],
      "text/plain": [
       "<IPython.core.display.Javascript object>"
      ]
     },
     "metadata": {},
     "output_type": "display_data"
    }
   ],
   "source": [
    "model.feature_importances_"
   ]
  },
  {
   "cell_type": "code",
   "execution_count": 12,
   "id": "a65f12ea",
   "metadata": {},
   "outputs": [
    {
     "name": "stderr",
     "output_type": "stream",
     "text": [
      "/home/iceking/Desktop/TUM Lecture Docs/3. Business Analytics and Machine Learning (IN2028)/Analytics Cup/Project Files/venv/lib/python3.8/site-packages/xgboost/sklearn.py:1224: UserWarning: The use of label encoder in XGBClassifier is deprecated and will be removed in a future release. To remove this warning, do the following: 1) Pass option use_label_encoder=False when constructing XGBClassifier object; and 2) Encode your labels (y) as integers starting with 0, i.e. 0, 1, 2, ..., [num_class - 1].\n",
      "  warnings.warn(label_encoder_deprecation_msg, UserWarning)\n",
      "/home/iceking/Desktop/TUM Lecture Docs/3. Business Analytics and Machine Learning (IN2028)/Analytics Cup/Project Files/venv/lib/python3.8/site-packages/xgboost/data.py:262: FutureWarning: pandas.Int64Index is deprecated and will be removed from pandas in a future version. Use pandas.Index with the appropriate dtype instead.\n",
      "  elif isinstance(data.columns, (pd.Int64Index, pd.RangeIndex)):\n"
     ]
    },
    {
     "name": "stdout",
     "output_type": "stream",
     "text": [
      "[21:55:11] WARNING: ../src/learner.cc:1115: Starting in XGBoost 1.3.0, the default evaluation metric used with the objective 'binary:logistic' was changed from 'error' to 'logloss'. Explicitly set eval_metric if you'd like to restore the old behavior.\n"
     ]
    },
    {
     "data": {
      "image/png": "[encoded data removed]",
      "text/plain": [
       "<Figure size 432x288 with 1 Axes>"
      ]
     },
     "metadata": {
      "needs_background": "light"
     },
     "output_type": "display_data"
    },
    {
     "data": {
      "application/javascript": [
       "\n",
       "            setTimeout(function() {\n",
       "                var nbb_cell_id = 12;\n",
       "                var nbb_unformatted_code = \"# ndians dataset using the built-in plot_importance() function.\\n# plot feature importance using built-in function\\nfrom numpy import loadtxt\\nfrom xgboost import XGBClassifier\\nfrom xgboost import plot_importance\\nfrom matplotlib import pyplot\\n\\n# load data\\n# dataset = loadtxt(\\\"pima-indians-diabetes.csv\\\", delimiter=\\\",\\\")\\n# split data into X and y\\n# X = dataset[:, 0:8]\\n# y = dataset[:, 8]\\n# fit model no training data\\nmodel = XGBClassifier()\\naa = X_train[type_separator(X_train, False)[\\\"numerical\\\"]]\\n\\naa.columns = [xyz.replace('<','HHH') for xyz in aa.columns]\\n\\nmodel.fit(aa, y_train)\\n# plot feature importance\\nplot_importance(model)\\npyplot.show()\";\n",
       "                var nbb_formatted_code = \"# ndians dataset using the built-in plot_importance() function.\\n# plot feature importance using built-in function\\nfrom numpy import loadtxt\\nfrom xgboost import XGBClassifier\\nfrom xgboost import plot_importance\\nfrom matplotlib import pyplot\\n\\n# load data\\n# dataset = loadtxt(\\\"pima-indians-diabetes.csv\\\", delimiter=\\\",\\\")\\n# split data into X and y\\n# X = dataset[:, 0:8]\\n# y = dataset[:, 8]\\n# fit model no training data\\nmodel = XGBClassifier()\\naa = X_train[type_separator(X_train, False)[\\\"numerical\\\"]]\\n\\naa.columns = [xyz.replace(\\\"<\\\", \\\"HHH\\\") for xyz in aa.columns]\\n\\nmodel.fit(aa, y_train)\\n# plot feature importance\\nplot_importance(model)\\npyplot.show()\";\n",
       "                var nbb_cells = Jupyter.notebook.get_cells();\n",
       "                for (var i = 0; i < nbb_cells.length; ++i) {\n",
       "                    if (nbb_cells[i].input_prompt_number == nbb_cell_id) {\n",
       "                        if (nbb_cells[i].get_text() == nbb_unformatted_code) {\n",
       "                             nbb_cells[i].set_text(nbb_formatted_code);\n",
       "                        }\n",
       "                        break;\n",
       "                    }\n",
       "                }\n",
       "            }, 500);\n",
       "            "
      ],
      "text/plain": [
       "<IPython.core.display.Javascript object>"
      ]
     },
     "metadata": {},
     "output_type": "display_data"
    }
   ],
   "source": [
    "# ndians dataset using the built-in plot_importance() function.\n",
    "# plot feature importance using built-in function\n",
    "from numpy import loadtxt\n",
    "from xgboost import XGBClassifier\n",
    "from xgboost import plot_importance\n",
    "from matplotlib import pyplot\n",
    "\n",
    "# load data\n",
    "# dataset = loadtxt(\"pima-indians-diabetes.csv\", delimiter=\",\")\n",
    "# split data into X and y\n",
    "# X = dataset[:, 0:8]\n",
    "# y = dataset[:, 8]\n",
    "# fit model no training data\n",
    "model = XGBClassifier()\n",
    "aa = X_train[type_separator(X_train, False)[\"numerical\"]]\n",
    "\n",
    "aa.columns = [xyz.replace(\"<\", \"HHH\") for xyz in aa.columns]\n",
    "\n",
    "model.fit(aa, y_train)\n",
    "# plot feature importance\n",
    "plot_importance(model)\n",
    "pyplot.show()"
   ]
  },
  {
   "cell_type": "code",
   "execution_count": 13,
   "id": "91df9774",
   "metadata": {
    "scrolled": false
   },
   "outputs": [
    {
     "name": "stdout",
     "output_type": "stream",
     "text": [
      "'REV_CURRENT_YEAR.2_<_REV_PERCENTAGE_INCREASE',\t#0.09610101580619812\n",
      "'REV_CURRENT_YEAR.1_<_TOTAL_COST',\t#0.06857892870903015\n",
      "'TECH_REDUCED_1_1HOTENC_F',\t#0.05166756734251976\n",
      "'PRICE_LIST_1HOTENC_CMT Installer',\t#0.04839813709259033\n",
      "'OFFER_PRICE_<_REV_PERCENTAGE_INCREASE',\t#0.03901156038045883\n",
      "'REV_PERCENTAGE_INCREASE_<_TOTAL_COST',\t#0.03355308994650841\n",
      "'TECH_REDUCED_1_1HOTENC_E_EPS_FP_BP',\t#0.029259905219078064\n",
      "'SINCE_CREATION_YEAR_<_SO_CREATED_DATE_SCALED',\t#0.028346635401248932\n",
      "'OWNERSHIP_REDUCED_1HOTENC_Governmental_IndividualPerson_Noinformation',\t#0.021181341260671616\n",
      "'SERVICE_LIST_PRICE_<_SERVICE_COST',\t#0.020826183259487152\n",
      "'OFFER_TYPE_BINENC_0',\t#0.01599985547363758\n",
      "'BUSINESS_TYPE_BINENC_2',\t#0.015860842540860176\n",
      "'OFFER_TYPE_BINENC_1',\t#0.01535513624548912\n",
      "'REV_CURRENT_YEAR_LOG.1',\t#0.014912281185388565\n",
      "'BUSINESS_TYPE_BINENC_3',\t#0.014111315831542015\n",
      "'BUSINESS_TYPE_BINENC_1',\t#0.014050492085516453\n",
      "'BUSINESS_TYPE_BINENC_0',\t#0.012201179750263691\n",
      "'SERVICE_COST_<_REV_CURRENT_YEAR.1',\t#0.011560462415218353\n",
      "'OWNERSHIP_NO_INFO_AS_NA_1HOTENC_Governmental',\t#0.011076554656028748\n",
      "'PRICE_LIST_1HOTENC_SFT Standard',\t#0.01103497389703989\n",
      "'HAS_COSTS_PRODUCT_D',\t#0.010728930123150349\n",
      "'SALES_LOCATION_BINENC_1',\t#0.010572257451713085\n",
      "'OFFER_TYPE_BINENC_4',\t#0.009773537516593933\n",
      "'TECH_BINENC_1',\t#0.009167510084807873\n",
      "'REV_PERCENTAGE_INCREASE_NO_OUTLIER',\t#0.008779934607446194\n",
      "'SALES_LOCATION_BINENC_2',\t#0.008750819601118565\n",
      "'MATERIAL_COST_<_REV_CURRENT_YEAR.1',\t#0.008442980237305164\n",
      "'SERVICE_LIST_PRICE_<_REV_CURRENT_YEAR.1',\t#0.00834011472761631\n",
      "'SERVICE_COST',\t#0.008272476494312286\n",
      "'SALES_LOCATION_BINENC_3',\t#0.008105024695396423\n",
      "'SALES_OFFICE_BINENC_3',\t#0.0079117426648736\n",
      "'OFFER_TYPE_BINENC_2',\t#0.007836295291781425\n",
      "'REV_CURRENT_YEAR.2_<_TOTAL_COST',\t#0.007833493873476982\n",
      "'SALES_OFFICE_BINENC_0',\t#0.007764273323118687\n",
      "'PRICE_LIST_1HOTENC_CMT End Customer',\t#0.007753641810268164\n",
      "'TOTAL_COSTS_PRODUCT_<_SO_CREATED_DATE_SCALED',\t#0.007648177444934845\n",
      "'TECH_REDUCED_1_1HOTENC_C',\t#0.007598263211548328\n",
      "'SO_CREATED_DATE_SCALED',\t#0.0075345952063798904\n",
      "'REV_CURRENT_YEAR_LOG.2',\t#0.007526252418756485\n",
      "'SALES_OFFICE_BINENC_4',\t#0.007231812458485365\n",
      "'SERVICE_LIST_PRICE_<_TOTAL_COST',\t#0.007083372678607702\n",
      "'SERVICE_LIST_PRICE_<_REV_PERCENTAGE_INCREASE',\t#0.007078474387526512\n",
      "'SERVICE_LIST_PRICE_<_ADDITIONAL_COST',\t#0.007031504064798355\n",
      "'HAS_ISIC',\t#0.006998696830123663\n",
      "'SALES_OFFICE_BINENC_1',\t#0.006958437152206898\n",
      "'HAS_COSTS_PRODUCT_B',\t#0.006779914256185293\n",
      "'SALES_LOCATION_BINENC_5',\t#0.006734827999025583\n",
      "'SALES_LOCATION_BINENC_4',\t#0.006601038388907909\n",
      "'IS_COUNTRY_CODE_CH',\t#0.006525534205138683\n",
      "'SALES_OFFICE_BINENC_5',\t#0.006479556206613779\n",
      "'REV_PERCENTAGE_INCREASE',\t#0.0064058853313326836\n",
      "'SALES_OFFICE_BINENC_2',\t#0.006327430717647076\n",
      "'SERVICE_LIST_PRICE',\t#0.006221694406121969\n",
      "'MATERIAL_COST_<_ADDITIONAL_COST',\t#0.0062048910185694695\n",
      "'REV_CURRENT_YEAR.1',\t#0.006147968117147684\n",
      "'SALES_LOCATION_BINENC_0',\t#0.0061261276714503765\n",
      "'MATERIAL_COST',\t#0.006124884821474552\n",
      "'REV_PERCENTAGE_INCREASE_<_ADDITIONAL_COST',\t#0.005901111755520105\n",
      "'OFFER_PRICE_<_REV_CURRENT_YEAR.1',\t#0.005844731815159321\n",
      "'CREATION_YEAR',\t#0.005803216248750687\n",
      "'TECH_BINENC_2',\t#0.0056681763380765915\n",
      "'HAS_COSTS_PRODUCT_C',\t#0.005654983688145876\n",
      "'HAS_END_CUSTOMER',\t#0.005633049178868532\n",
      "'TOTAL_COSTS_PRODUCT',\t#0.0054407124407589436\n",
      "'REV_CURRENT_YEAR.2',\t#0.005425830837339163\n",
      "'REV_CURRENT_YEAR.1_<_ADDITIONAL_COST',\t#0.005387913901358843\n",
      "'OWNERSHIP_NO_INFO_AS_NA_REDUCED_1HOTENC_Governmental_IndividualPerson',\t#0.00535170640796423\n",
      "'TOTAL_COST',\t#0.0053093028254806995\n",
      "'MATERIAL_COST_<_REV_PERCENTAGE_INCREASE',\t#0.0052901399321854115\n",
      "'HAS_COSTS_PRODUCT_A',\t#0.005265239626169205\n",
      "'ADDITIONAL_COST',\t#0.005256993230432272\n",
      "'OFFER_TYPE_BINENC_3',\t#0.005162983667105436\n",
      "'REV_PERCENTAGE_INCREASE_<_SO_CREATED_DATE_SCALED',\t#0.005108097568154335\n",
      "'SO_CREATED_DATE_SCALED_<_REV_PERCENTAGE_INCREASE_NO_OUTLIER',\t#0.005060083232820034\n",
      "'OWNERSHIP_NA_AS_NO_INFO_REDUCED_1HOTENC_Governmental_IndividualPerson_Noinformation',\t#0.004942663479596376\n",
      "'CURRENCY_BINENC_2',\t#0.004857788793742657\n",
      "'OFFER_PRICE',\t#0.004834827966988087\n",
      "'REV_CURRENT_YEAR.2_<_ADDITIONAL_COST',\t#0.004588569980114698\n",
      "'MATERIAL_COST_<_SERVICE_COST',\t#0.004372822120785713\n",
      "'HAS_COSTS_PRODUCT_E',\t#0.004227007739245892\n",
      "'CURRENCY_BINENC_1',\t#0.004159369505941868\n",
      "'SERVICE_COST_<_ADDITIONAL_COST',\t#0.004095220938324928\n",
      "'IS_NA_CURRENCY',\t#0.003751371055841446\n",
      "'TECH_REDUCED_1_1HOTENC_S',\t#0.003720833919942379\n",
      "'SERVICE_COST_<_REV_PERCENTAGE_INCREASE',\t#0.003644987242296338\n",
      "'OWNERSHIP_BINENC_1',\t#0.0031196887139230967\n",
      "'SINCE_CREATION_YEAR_LOG',\t#0.0024250734131783247\n",
      "'SERVICE_COST_<_REV_CURRENT_YEAR.2',\t#0.0022056959569454193\n",
      "'SINCE_CREATION_YEAR',\t#0.0\n",
      "'SERVICE_LIST_PRICE_LOG',\t#0.0\n",
      "'SERVICE_COST_LOG',\t#0.0\n",
      "'SERVICE_COST_<_CREATION_YEAR',\t#0.0\n",
      "'REV_CURRENT_YEAR.1_<_REV_PERCENTAGE_INCREASE',\t#0.0\n",
      "'PRICE_LIST_1HOTENC_Tarif public',\t#0.0\n",
      "'OWNERSHIP_REDUCED_1HOTENC_Privately Owned/Publicly Traded',\t#0.0\n",
      "'OWNERSHIP_BINENC_2',\t#0.0\n",
      "'OFFER_PRICE_LOG',\t#0.0\n",
      "'MATERIAL_COST_LOG',\t#0.0\n",
      "'IS_NA_REV_PERCENTAGE_INCREASE',\t#0.0\n",
      "'IS_NA_OWNERSHIP_NO_INFO_AS_NA',\t#0.0\n",
      "'CREATION_YEAR_LOG',\t#0.0\n",
      "'CREATION_YEAR_<_TOTAL_COST',\t#0.0\n",
      "'CREATION_YEAR_<_REV_PERCENTAGE_INCREASE',\t#0.0\n",
      "'CREATION_YEAR_<_ADDITIONAL_COST',\t#0.0\n"
     ]
    },
    {
     "data": {
      "application/javascript": [
       "\n",
       "            setTimeout(function() {\n",
       "                var nbb_cell_id = 13;\n",
       "                var nbb_unformatted_code = \"aa.columns = [xyz.replace( \\\"HHH\\\",\\\"<\\\") for xyz in aa.columns]\\n\\na = list(zip(list(model.feature_importances_), list(aa.columns)))\\n\\n\\nfor item in sorted(a)[::-1]:\\n    print(f\\\"'{item[1]}',\\\\t#{item[0]}\\\")\";\n",
       "                var nbb_formatted_code = \"aa.columns = [xyz.replace(\\\"HHH\\\", \\\"<\\\") for xyz in aa.columns]\\n\\na = list(zip(list(model.feature_importances_), list(aa.columns)))\\n\\n\\nfor item in sorted(a)[::-1]:\\n    print(f\\\"'{item[1]}',\\\\t#{item[0]}\\\")\";\n",
       "                var nbb_cells = Jupyter.notebook.get_cells();\n",
       "                for (var i = 0; i < nbb_cells.length; ++i) {\n",
       "                    if (nbb_cells[i].input_prompt_number == nbb_cell_id) {\n",
       "                        if (nbb_cells[i].get_text() == nbb_unformatted_code) {\n",
       "                             nbb_cells[i].set_text(nbb_formatted_code);\n",
       "                        }\n",
       "                        break;\n",
       "                    }\n",
       "                }\n",
       "            }, 500);\n",
       "            "
      ],
      "text/plain": [
       "<IPython.core.display.Javascript object>"
      ]
     },
     "metadata": {},
     "output_type": "display_data"
    }
   ],
   "source": [
    "aa.columns = [xyz.replace(\"HHH\", \"<\") for xyz in aa.columns]\n",
    "\n",
    "a = list(zip(list(model.feature_importances_), list(aa.columns)))\n",
    "\n",
    "\n",
    "for item in sorted(a)[::-1]:\n",
    "    print(f\"'{item[1]}',\\t#{item[0]}\")"
   ]
  },
  {
   "cell_type": "code",
   "execution_count": null,
   "id": "54c34e0f",
   "metadata": {},
   "outputs": [],
   "source": []
  }
 ],
 "metadata": {
  "kernelspec": {
   "display_name": "Python 3 (ipykernel)",
   "language": "python",
   "name": "python3"
  },
  "language_info": {
   "codemirror_mode": {
    "name": "ipython",
    "version": 3
   },
   "file_extension": ".py",
   "mimetype": "text/x-python",
   "name": "python",
   "nbconvert_exporter": "python",
   "pygments_lexer": "ipython3",
   "version": "3.8.10"
  }
 },
 "nbformat": 4,
 "nbformat_minor": 5
}
